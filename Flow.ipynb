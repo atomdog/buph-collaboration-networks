{
 "cells": [
  {
   "cell_type": "code",
   "execution_count": 1,
   "id": "80f63645-cfd7-4c9c-98bd-fe1710f6431b",
   "metadata": {},
   "outputs": [],
   "source": [
    "#import dependencies\n",
    "import numpy as np\n",
    "import pandas as pd\n",
    "import os #for file operations\n",
    "import glob #for file operations\n",
    "import json #for creating dataset\n",
    "import random\n",
    "import time\n",
    "from datetime import datetime\n",
    "\n",
    "\n",
    "import storage\n",
    "import csv\n",
    "\n",
    "import spacy\n",
    "\n",
    "import geopandas as gpd\n",
    "import pandas as pd\n",
    "from shapely.geometry import Point"
   ]
  },
  {
   "cell_type": "markdown",
   "id": "96c5f4d8-3eef-4dc0-87b1-f6dd5e9b6044",
   "metadata": {},
   "source": [
    "### Set global variables to minimize unnecessary processing"
   ]
  },
  {
   "cell_type": "code",
   "execution_count": 2,
   "id": "a733c0c7-19bc-40f1-9a0b-da5cbd6f37a6",
   "metadata": {},
   "outputs": [],
   "source": [
    "STAGE_0 = 1\n",
    "STAGE_1 = 1\n",
    "STAGE_2 = 0"
   ]
  },
  {
   "cell_type": "markdown",
   "id": "8f5ca4d0-9a87-4a1b-9647-fbb2c28d1491",
   "metadata": {},
   "source": [
    "### Retrieve & Format Departments (Actors), Articles (Events), Links (Edges)"
   ]
  },
  {
   "cell_type": "code",
   "execution_count": 3,
   "id": "5b386b98-7d18-48b4-af0c-0aade3836dc0",
   "metadata": {},
   "outputs": [],
   "source": [
    "if(STAGE_0==1):\n",
    "    # only load departments directly from SQL database if GL has not been calculated.\n",
    "    departments = storage.retrieve_all_departments()\n",
    "    department_frame = pd.DataFrame.from_records(departments, columns =['index', 'name', 'lat', 'long'])\n",
    "\n",
    "article_dept_links = storage.get_article_department_links()\n",
    "articles = storage.retrieve_all_articles()\n",
    "article_frame = pd.DataFrame.from_records(articles, columns =['index', 'title', 'journal', 'date', 'abstract', 'grants'])\n",
    "link_frame = pd.DataFrame.from_records(article_dept_links, columns =['dept0_index', 'dept1_index', 'article_index', 'journal'])\n"
   ]
  },
  {
   "cell_type": "code",
   "execution_count": 4,
   "id": "cf60bf46-9540-417d-bb6c-6688a5cdc67c",
   "metadata": {},
   "outputs": [],
   "source": [
    "if(STAGE_0):\n",
    "    department_frame.head()"
   ]
  },
  {
   "cell_type": "code",
   "execution_count": 5,
   "id": "98fa4166-d87a-4867-a0b9-fe366dc38e2c",
   "metadata": {},
   "outputs": [
    {
     "data": {
      "text/html": [
       "<div>\n",
       "<style scoped>\n",
       "    .dataframe tbody tr th:only-of-type {\n",
       "        vertical-align: middle;\n",
       "    }\n",
       "\n",
       "    .dataframe tbody tr th {\n",
       "        vertical-align: top;\n",
       "    }\n",
       "\n",
       "    .dataframe thead th {\n",
       "        text-align: right;\n",
       "    }\n",
       "</style>\n",
       "<table border=\"1\" class=\"dataframe\">\n",
       "  <thead>\n",
       "    <tr style=\"text-align: right;\">\n",
       "      <th></th>\n",
       "      <th>index</th>\n",
       "      <th>title</th>\n",
       "      <th>journal</th>\n",
       "      <th>date</th>\n",
       "      <th>abstract</th>\n",
       "      <th>grants</th>\n",
       "    </tr>\n",
       "  </thead>\n",
       "  <tbody>\n",
       "    <tr>\n",
       "      <th>0</th>\n",
       "      <td>39571576</td>\n",
       "      <td>Evolutionary genomics of the emergence of brow...</td>\n",
       "      <td>Cell</td>\n",
       "      <td>2024 Nov 18</td>\n",
       "      <td>Brown seaweeds are keystone species of coastal...</td>\n",
       "      <td></td>\n",
       "    </tr>\n",
       "    <tr>\n",
       "      <th>1</th>\n",
       "      <td>39566495</td>\n",
       "      <td>Fibroblastic reticular cells generate protecti...</td>\n",
       "      <td>Cell</td>\n",
       "      <td>2024 Nov 19</td>\n",
       "      <td>Stringent control of T cell activity in the tu...</td>\n",
       "      <td></td>\n",
       "    </tr>\n",
       "    <tr>\n",
       "      <th>2</th>\n",
       "      <td>39561773</td>\n",
       "      <td>Glialike taste cells mediate an intercellular ...</td>\n",
       "      <td>Cell</td>\n",
       "      <td>2024 Nov 9</td>\n",
       "      <td>The sense of taste generally shows diminishing...</td>\n",
       "      <td></td>\n",
       "    </tr>\n",
       "    <tr>\n",
       "      <th>3</th>\n",
       "      <td>39549699</td>\n",
       "      <td>The Arabidopsis bluelight photoreceptor CRY2 i...</td>\n",
       "      <td>Cell</td>\n",
       "      <td>2024 Nov 8</td>\n",
       "      <td>Cryptochromes (CRYs) are bluelight receptors t...</td>\n",
       "      <td></td>\n",
       "    </tr>\n",
       "    <tr>\n",
       "      <th>4</th>\n",
       "      <td>39549698</td>\n",
       "      <td>The singlemolecule accessibility landscape of ...</td>\n",
       "      <td>Cell</td>\n",
       "      <td>2024 Nov 12</td>\n",
       "      <td>We present replicationaware singlemolecule acc...</td>\n",
       "      <td></td>\n",
       "    </tr>\n",
       "  </tbody>\n",
       "</table>\n",
       "</div>"
      ],
      "text/plain": [
       "      index                                              title journal  \\\n",
       "0  39571576  Evolutionary genomics of the emergence of brow...    Cell   \n",
       "1  39566495  Fibroblastic reticular cells generate protecti...    Cell   \n",
       "2  39561773  Glialike taste cells mediate an intercellular ...    Cell   \n",
       "3  39549699  The Arabidopsis bluelight photoreceptor CRY2 i...    Cell   \n",
       "4  39549698  The singlemolecule accessibility landscape of ...    Cell   \n",
       "\n",
       "          date                                           abstract grants  \n",
       "0  2024 Nov 18  Brown seaweeds are keystone species of coastal...         \n",
       "1  2024 Nov 19  Stringent control of T cell activity in the tu...         \n",
       "2   2024 Nov 9  The sense of taste generally shows diminishing...         \n",
       "3   2024 Nov 8  Cryptochromes (CRYs) are bluelight receptors t...         \n",
       "4  2024 Nov 12  We present replicationaware singlemolecule acc...         "
      ]
     },
     "execution_count": 5,
     "metadata": {},
     "output_type": "execute_result"
    }
   ],
   "source": [
    "article_frame.head()"
   ]
  },
  {
   "cell_type": "code",
   "execution_count": 6,
   "id": "8854e786-6733-4001-a8af-c1328fa2c17a",
   "metadata": {},
   "outputs": [
    {
     "data": {
      "text/html": [
       "<div>\n",
       "<style scoped>\n",
       "    .dataframe tbody tr th:only-of-type {\n",
       "        vertical-align: middle;\n",
       "    }\n",
       "\n",
       "    .dataframe tbody tr th {\n",
       "        vertical-align: top;\n",
       "    }\n",
       "\n",
       "    .dataframe thead th {\n",
       "        text-align: right;\n",
       "    }\n",
       "</style>\n",
       "<table border=\"1\" class=\"dataframe\">\n",
       "  <thead>\n",
       "    <tr style=\"text-align: right;\">\n",
       "      <th></th>\n",
       "      <th>dept0_index</th>\n",
       "      <th>dept1_index</th>\n",
       "      <th>article_index</th>\n",
       "      <th>journal</th>\n",
       "    </tr>\n",
       "  </thead>\n",
       "  <tbody>\n",
       "    <tr>\n",
       "      <th>0</th>\n",
       "      <td>1</td>\n",
       "      <td>2</td>\n",
       "      <td>39571576</td>\n",
       "      <td>Cell</td>\n",
       "    </tr>\n",
       "    <tr>\n",
       "      <th>1</th>\n",
       "      <td>1</td>\n",
       "      <td>3</td>\n",
       "      <td>39571576</td>\n",
       "      <td>Cell</td>\n",
       "    </tr>\n",
       "    <tr>\n",
       "      <th>2</th>\n",
       "      <td>1</td>\n",
       "      <td>4</td>\n",
       "      <td>39571576</td>\n",
       "      <td>Cell</td>\n",
       "    </tr>\n",
       "    <tr>\n",
       "      <th>3</th>\n",
       "      <td>1</td>\n",
       "      <td>5</td>\n",
       "      <td>39571576</td>\n",
       "      <td>Cell</td>\n",
       "    </tr>\n",
       "    <tr>\n",
       "      <th>4</th>\n",
       "      <td>1</td>\n",
       "      <td>6</td>\n",
       "      <td>39571576</td>\n",
       "      <td>Cell</td>\n",
       "    </tr>\n",
       "  </tbody>\n",
       "</table>\n",
       "</div>"
      ],
      "text/plain": [
       "   dept0_index  dept1_index article_index journal\n",
       "0            1            2      39571576    Cell\n",
       "1            1            3      39571576    Cell\n",
       "2            1            4      39571576    Cell\n",
       "3            1            5      39571576    Cell\n",
       "4            1            6      39571576    Cell"
      ]
     },
     "execution_count": 6,
     "metadata": {},
     "output_type": "execute_result"
    }
   ],
   "source": [
    "link_frame.head()"
   ]
  },
  {
   "cell_type": "markdown",
   "id": "456e0c57-2e4a-4712-b620-d01828e541d2",
   "metadata": {},
   "source": [
    "#### Format Time"
   ]
  },
  {
   "cell_type": "code",
   "execution_count": 7,
   "id": "84a4b87d-0b49-46ba-ac12-1f364bad6b84",
   "metadata": {},
   "outputs": [],
   "source": [
    "article_frame.fillna(\"--\",inplace=True)\n",
    "article_frame['date']= article_frame['date'].apply(lambda d: d.replace(\"--\",\"1900 Jan 0\"))\n",
    "article_frame['date'] = article_frame['date'].apply(lambda d: \" \".join(d.split(\" \")[0:2]))\n",
    "article_frame['date'] = article_frame['date'].apply(lambda d: datetime.strptime(d, '%Y %b'))\n",
    "article_frame['date'] = article_frame['date'] = pd.to_datetime(article_frame['date'], format=\"%m/%d/%Y\")\n"
   ]
  },
  {
   "cell_type": "code",
   "execution_count": 8,
   "id": "6784a218-0901-4e09-82dd-94b1091fbb1c",
   "metadata": {},
   "outputs": [
    {
     "data": {
      "text/plain": [
       "count                             1809\n",
       "mean     2023-08-25 23:22:35.223880448\n",
       "min                2020-07-01 00:00:00\n",
       "25%                2023-03-01 00:00:00\n",
       "50%                2023-12-01 00:00:00\n",
       "75%                2024-06-01 00:00:00\n",
       "max                2024-11-01 00:00:00\n",
       "Name: date, dtype: object"
      ]
     },
     "execution_count": 8,
     "metadata": {},
     "output_type": "execute_result"
    }
   ],
   "source": [
    "article_frame['date'].describe()"
   ]
  },
  {
   "cell_type": "markdown",
   "id": "a601d586-0154-43ec-9fcb-f812ac860a0a",
   "metadata": {},
   "source": [
    "#### Descriptions of Dataframes Prior to Filtering + Processing"
   ]
  },
  {
   "cell_type": "code",
   "execution_count": 9,
   "id": "3c2f8060-c23c-41c1-b6fd-338674e23f3d",
   "metadata": {},
   "outputs": [],
   "source": [
    "if(STAGE_0):\n",
    "    department_frame.describe()"
   ]
  },
  {
   "cell_type": "code",
   "execution_count": 10,
   "id": "ca1c58b1-a6b0-453e-b9cd-408ce14cb5cc",
   "metadata": {},
   "outputs": [
    {
     "data": {
      "text/html": [
       "<div>\n",
       "<style scoped>\n",
       "    .dataframe tbody tr th:only-of-type {\n",
       "        vertical-align: middle;\n",
       "    }\n",
       "\n",
       "    .dataframe tbody tr th {\n",
       "        vertical-align: top;\n",
       "    }\n",
       "\n",
       "    .dataframe thead th {\n",
       "        text-align: right;\n",
       "    }\n",
       "</style>\n",
       "<table border=\"1\" class=\"dataframe\">\n",
       "  <thead>\n",
       "    <tr style=\"text-align: right;\">\n",
       "      <th></th>\n",
       "      <th>date</th>\n",
       "    </tr>\n",
       "  </thead>\n",
       "  <tbody>\n",
       "    <tr>\n",
       "      <th>count</th>\n",
       "      <td>1809</td>\n",
       "    </tr>\n",
       "    <tr>\n",
       "      <th>mean</th>\n",
       "      <td>2023-08-25 23:22:35.223880448</td>\n",
       "    </tr>\n",
       "    <tr>\n",
       "      <th>min</th>\n",
       "      <td>2020-07-01 00:00:00</td>\n",
       "    </tr>\n",
       "    <tr>\n",
       "      <th>25%</th>\n",
       "      <td>2023-03-01 00:00:00</td>\n",
       "    </tr>\n",
       "    <tr>\n",
       "      <th>50%</th>\n",
       "      <td>2023-12-01 00:00:00</td>\n",
       "    </tr>\n",
       "    <tr>\n",
       "      <th>75%</th>\n",
       "      <td>2024-06-01 00:00:00</td>\n",
       "    </tr>\n",
       "    <tr>\n",
       "      <th>max</th>\n",
       "      <td>2024-11-01 00:00:00</td>\n",
       "    </tr>\n",
       "  </tbody>\n",
       "</table>\n",
       "</div>"
      ],
      "text/plain": [
       "                                date\n",
       "count                           1809\n",
       "mean   2023-08-25 23:22:35.223880448\n",
       "min              2020-07-01 00:00:00\n",
       "25%              2023-03-01 00:00:00\n",
       "50%              2023-12-01 00:00:00\n",
       "75%              2024-06-01 00:00:00\n",
       "max              2024-11-01 00:00:00"
      ]
     },
     "execution_count": 10,
     "metadata": {},
     "output_type": "execute_result"
    }
   ],
   "source": [
    "article_frame.describe()"
   ]
  },
  {
   "cell_type": "code",
   "execution_count": 11,
   "id": "3b9f0be6-cd92-480a-a977-82b96811651b",
   "metadata": {},
   "outputs": [
    {
     "data": {
      "text/html": [
       "<div>\n",
       "<style scoped>\n",
       "    .dataframe tbody tr th:only-of-type {\n",
       "        vertical-align: middle;\n",
       "    }\n",
       "\n",
       "    .dataframe tbody tr th {\n",
       "        vertical-align: top;\n",
       "    }\n",
       "\n",
       "    .dataframe thead th {\n",
       "        text-align: right;\n",
       "    }\n",
       "</style>\n",
       "<table border=\"1\" class=\"dataframe\">\n",
       "  <thead>\n",
       "    <tr style=\"text-align: right;\">\n",
       "      <th></th>\n",
       "      <th>dept0_index</th>\n",
       "      <th>dept1_index</th>\n",
       "    </tr>\n",
       "  </thead>\n",
       "  <tbody>\n",
       "    <tr>\n",
       "      <th>count</th>\n",
       "      <td>426966.000000</td>\n",
       "      <td>426966.000000</td>\n",
       "    </tr>\n",
       "    <tr>\n",
       "      <th>mean</th>\n",
       "      <td>7969.046711</td>\n",
       "      <td>7969.046711</td>\n",
       "    </tr>\n",
       "    <tr>\n",
       "      <th>std</th>\n",
       "      <td>4959.870190</td>\n",
       "      <td>4959.870190</td>\n",
       "    </tr>\n",
       "    <tr>\n",
       "      <th>min</th>\n",
       "      <td>1.000000</td>\n",
       "      <td>1.000000</td>\n",
       "    </tr>\n",
       "    <tr>\n",
       "      <th>25%</th>\n",
       "      <td>3721.000000</td>\n",
       "      <td>3721.000000</td>\n",
       "    </tr>\n",
       "    <tr>\n",
       "      <th>50%</th>\n",
       "      <td>7696.000000</td>\n",
       "      <td>7696.000000</td>\n",
       "    </tr>\n",
       "    <tr>\n",
       "      <th>75%</th>\n",
       "      <td>11463.000000</td>\n",
       "      <td>11463.000000</td>\n",
       "    </tr>\n",
       "    <tr>\n",
       "      <th>max</th>\n",
       "      <td>18402.000000</td>\n",
       "      <td>18402.000000</td>\n",
       "    </tr>\n",
       "  </tbody>\n",
       "</table>\n",
       "</div>"
      ],
      "text/plain": [
       "         dept0_index    dept1_index\n",
       "count  426966.000000  426966.000000\n",
       "mean     7969.046711    7969.046711\n",
       "std      4959.870190    4959.870190\n",
       "min         1.000000       1.000000\n",
       "25%      3721.000000    3721.000000\n",
       "50%      7696.000000    7696.000000\n",
       "75%     11463.000000   11463.000000\n",
       "max     18402.000000   18402.000000"
      ]
     },
     "execution_count": 11,
     "metadata": {},
     "output_type": "execute_result"
    }
   ],
   "source": [
    "link_frame.describe()"
   ]
  },
  {
   "cell_type": "markdown",
   "id": "4cc38427-f1eb-48e4-b204-7a6951724b5f",
   "metadata": {},
   "source": [
    "## Apply GLiNER"
   ]
  },
  {
   "cell_type": "markdown",
   "id": "8725e061-715d-4984-97bd-794a51dae816",
   "metadata": {},
   "source": [
    "[GLiNER: Generalist Model for Named Entity Recognition using Bidirectional Transformer by Zaratiana et. al](https://arxiv.org/pdf/2311.08526) presents an open named entity resolution model which matches text to a set of natural language entity tags provided at inference time. "
   ]
  },
  {
   "cell_type": "code",
   "execution_count": 12,
   "id": "e2a241b2-b6c4-4edd-999a-3cde7103a712",
   "metadata": {},
   "outputs": [
    {
     "data": {
      "application/vnd.jupyter.widget-view+json": {
       "model_id": "0b1aa5e23ead4ce7bdfcc537fc85ea71",
       "version_major": 2,
       "version_minor": 0
      },
      "text/plain": [
       "Fetching 4 files:   0%|          | 0/4 [00:00<?, ?it/s]"
      ]
     },
     "metadata": {},
     "output_type": "display_data"
    },
    {
     "name": "stderr",
     "output_type": "stream",
     "text": [
      "/home/aidan/.local/lib/python3.12/site-packages/transformers/tokenization_utils_base.py:1601: FutureWarning: `clean_up_tokenization_spaces` was not set. It will be set to `True` by default. This behavior will be depracted in transformers v4.45, and will be then set to `False` by default. For more details check this issue: https://github.com/huggingface/transformers/issues/31884\n",
      "  warnings.warn(\n",
      "/home/aidan/.local/lib/python3.12/site-packages/transformers/convert_slow_tokenizer.py:551: UserWarning: The sentencepiece tokenizer that you are converting to a fast tokenizer uses the byte fallback option which is not implemented in the fast tokenizers. In practice this means that the fast version of the tokenizer can produce unknown tokens whereas the sentencepiece version would have converted these unknown tokens into a sequence of byte tokens matching the original piece of text.\n",
      "  warnings.warn(\n",
      "/home/aidan/.local/lib/python3.12/site-packages/gliner/model.py:695: FutureWarning: You are using `torch.load` with `weights_only=False` (the current default value), which uses the default pickle module implicitly. It is possible to construct malicious pickle data which will execute arbitrary code during unpickling (See https://github.com/pytorch/pytorch/blob/main/SECURITY.md#untrusted-models for more details). In a future release, the default value for `weights_only` will be flipped to `True`. This limits the functions that could be executed during unpickling. Arbitrary objects will no longer be allowed to be loaded via this mode unless they are explicitly allowlisted by the user via `torch.serialization.add_safe_globals`. We recommend you start setting `weights_only=True` for any use case where you don't have full control of the loaded file. Please open an issue on GitHub for any issues related to this experimental feature.\n",
      "  state_dict = torch.load(model_file, map_location=torch.device(map_location))\n"
     ]
    }
   ],
   "source": [
    "if(STAGE_0):\n",
    "    #Load Spacy+Gliner Pipeline Pipeline\n",
    "    nlp = spacy.blank(\"en\")\n",
    "    #add configs (University, School, Organization)\n",
    "    custom_spacy_config = { \"gliner_model\": \"urchade/gliner_multi\",\n",
    "                            \"chunk_size\": 250,\n",
    "                            \"labels\": [\"university\", \"school\", \"organization\"],\n",
    "                            \"style\": \"ent\"}\n",
    "    nlp.add_pipe(\"gliner_spacy\", config=custom_spacy_config)"
   ]
  },
  {
   "cell_type": "code",
   "execution_count": 13,
   "id": "a3270a0d-03ea-42b1-b92d-c5102e6f20dd",
   "metadata": {},
   "outputs": [
    {
     "name": "stderr",
     "output_type": "stream",
     "text": [
      "  0%|                                                 | 0/18402 [00:00<?, ?it/s]Asking to truncate to max_length but no maximum length is provided and the model has no predefined maximum length. Default to no truncation.\n",
      "100%|█████████████████████████████████████| 18402/18402 [14:07<00:00, 21.72it/s]\n"
     ]
    }
   ],
   "source": [
    "if(STAGE_0):\n",
    "    from tqdm import tqdm\n",
    "    \n",
    "    tagged_schools = []\n",
    "    GL_t = []\n",
    "    texts = department_frame['name'].to_list()\n",
    "    \n",
    "    # Use tqdm to track progress\n",
    "    for doc in tqdm(nlp.pipe(texts, disable=[\"tok2vec\", \"tagger\", \"parser\", \"attribute_ruler\", \"lemmatizer\"]), total=len(texts)):\n",
    "        ents_schools = [ent.text for ent in doc.ents if ent.label_ == 'university' or ent.label_ == 'school']\n",
    "        # if university or school is identified, append to the list\n",
    "        if len(ents_schools) >= 1:\n",
    "            tagged_schools.append(ents_schools)\n",
    "            GL_t.append(\"S\")\n",
    "        # if a university or school is not identified, look for organizations\n",
    "        else:\n",
    "            ents_orgs = [ent.text for ent in doc.ents if ent.label_ == 'organization']\n",
    "            if len(ents_orgs) >= 1:\n",
    "                tagged_schools.append(ents_orgs)\n",
    "                GL_t.append(\"O\")\n",
    "        # this should just append the actual text itself if no entities are extracted\n",
    "        # - if a department entity is included it will use that first\n",
    "        if len(ents_schools) == 0 and len(ents_orgs) == 0:\n",
    "            tagged_schools.append([doc.text])\n",
    "            GL_t.append(\"N\")\n",
    "            \n",
    "    \n",
    "    department_frame['GL'] = tagged_schools\n",
    "    department_frame['GL_t'] = GL_t\n",
    "    department_frame.to_pickle(\"./department_frame_GL.pkl\") \n"
   ]
  },
  {
   "cell_type": "code",
   "execution_count": 16,
   "id": "6bc72dc4-ded6-4600-b4a1-79eeeceb5e14",
   "metadata": {},
   "outputs": [],
   "source": [
    "import gc\n",
    "import torch\n",
    "gc.collect()\n",
    "torch.cuda.empty_cache()"
   ]
  },
  {
   "cell_type": "markdown",
   "id": "7bfe3813-13b0-4e73-b564-37ae52928786",
   "metadata": {},
   "source": [
    "We now have a dataframe with GLiNER extracted entities in column *GL*\n",
    "This has the effect of removing redundant/extraneous information, reducing the chance RELiK focuses on the incorrect entity."
   ]
  },
  {
   "cell_type": "code",
   "execution_count": 17,
   "id": "aca63725-ca29-4100-8aa3-06dc8d0ea7b7",
   "metadata": {},
   "outputs": [],
   "source": [
    "if(STAGE_0):\n",
    "    department_frame.head()"
   ]
  },
  {
   "cell_type": "code",
   "execution_count": 31,
   "id": "4b7abcbe-1b32-407e-87ba-3897491b3303",
   "metadata": {},
   "outputs": [],
   "source": [
    "if(STAGE_1):\n",
    "    department_frame = pd.read_pickle(\"./department_frame_GL.pkl\")  "
   ]
  },
  {
   "cell_type": "code",
   "execution_count": 32,
   "id": "9d9c0465-27d7-4d2b-8370-8d0b829714a7",
   "metadata": {},
   "outputs": [
    {
     "name": "stdout",
     "output_type": "stream",
     "text": [
      "                ___              __         \n",
      "               /\\_ \\      __    /\\ \\        \n",
      " _ __     __   \\//\\ \\    /\\_\\   \\ \\ \\/'\\    \n",
      "/\\`'__\\ /'__`\\   \\ \\ \\   \\/\\ \\   \\ \\ , <    \n",
      "\\ \\ \\/ /\\  __/    \\_\\ \\_  \\ \\ \\   \\ \\ \\\\`\\  \n",
      " \\ \\_\\ \\ \\____\\   /\\____\\  \\ \\_\\   \\ \\_\\ \\_\\\n",
      "  \\/_/  \\/____/   \\/____/   \\/_/    \\/_/\\/_/\n",
      "                                            \n",
      "                                            \n",
      "\n"
     ]
    },
    {
     "name": "stderr",
     "output_type": "stream",
     "text": [
      "/home/aidan/.local/lib/python3.12/site-packages/huggingface_hub/file_download.py:1150: FutureWarning: `resume_download` is deprecated and will be removed in version 1.0.0. Downloads always resume when possible. If you want to force a new download, use `force_download=True`.\n",
      "  warnings.warn(\n"
     ]
    },
    {
     "data": {
      "application/vnd.jupyter.widget-view+json": {
       "model_id": "3e3c316fd3714afeab6131c280af55d9",
       "version_major": 2,
       "version_minor": 0
      },
      "text/plain": [
       "config.yaml:   0%|          | 0.00/942 [00:00<?, ?B/s]"
      ]
     },
     "metadata": {},
     "output_type": "display_data"
    },
    {
     "name": "stdout",
     "output_type": "stream",
     "text": [
      "[2024-11-23 12:15:24,625] [INFO] [relik.inference.annotator.from_pretrained:700] [PID:1219296] [RANK:0] Loading Relik from relik-ie/relik-cie-large\u001b[39m\n",
      "[2024-11-23 12:15:24,627] [INFO] [relik.inference.annotator.from_pretrained:701] [PID:1219296] [RANK:0] {\n",
      "    '_target_': 'relik.inference.annotator.Relik',\n",
      "    'index': {\n",
      "        'span': {\n",
      "            '_target_': 'relik.retriever.indexers.inmemory.InMemoryDocumentIndex.from_pretrained',\n",
      "            'name_or_path': 'relik-ie/index-e5-small-v2-wikipedia-matryoshka',\n",
      "        },\n",
      "        'triplet': {\n",
      "            '_target_': 'relik.retriever.indexers.inmemory.InMemoryDocumentIndex.from_pretrained',\n",
      "            'name_or_path': 'relik-ie/encoder-e5-small-v2-wikipedia-relations-index',\n",
      "        },\n",
      "    },\n",
      "    'metadata_fields': [],\n",
      "    'reader': {\n",
      "        '_target_': 'relik.reader.pytorch_modules.triplet.RelikReaderForTripletExtraction',\n",
      "        'transformer_model': 'relik-ie/relik-reader-deberta-v3-large-cie-wikipedia',\n",
      "        'use_nme': True,\n",
      "    },\n",
      "    'retriever': {\n",
      "        'span': {\n",
      "            '_target_': 'relik.retriever.pytorch_modules.model.GoldenRetriever',\n",
      "            'question_encoder': 'relik-ie/encoder-e5-small-v2-wikipedia-matryoshka',\n",
      "        },\n",
      "        'triplet': {\n",
      "            '_target_': 'relik.retriever.pytorch_modules.model.GoldenRetriever',\n",
      "            'question_encoder': 'relik-ie/encoder-e5-small-v2-wikipedia-relations',\n",
      "        },\n",
      "    },\n",
      "    'task': 'BOTH',\n",
      "    'top_k': 100,\n",
      "    'window_size': 64,\n",
      "    'window_stride': 32,\n",
      "}\u001b[39m\n"
     ]
    },
    {
     "data": {
      "application/vnd.jupyter.widget-view+json": {
       "model_id": "f3c75867f0994d61af7da8b0c93499a5",
       "version_major": 2,
       "version_minor": 0
      },
      "text/plain": [
       "config.json:   0%|          | 0.00/771 [00:00<?, ?B/s]"
      ]
     },
     "metadata": {},
     "output_type": "display_data"
    },
    {
     "data": {
      "application/vnd.jupyter.widget-view+json": {
       "model_id": "60a702217d99476ab91b5bae80a3746b",
       "version_major": 2,
       "version_minor": 0
      },
      "text/plain": [
       "model.safetensors:   0%|          | 0.00/133M [00:00<?, ?B/s]"
      ]
     },
     "metadata": {},
     "output_type": "display_data"
    },
    {
     "data": {
      "application/vnd.jupyter.widget-view+json": {
       "model_id": "5842171019844fd3a9f514f754a053ba",
       "version_major": 2,
       "version_minor": 0
      },
      "text/plain": [
       "config.json:   0%|          | 0.00/720 [00:00<?, ?B/s]"
      ]
     },
     "metadata": {},
     "output_type": "display_data"
    },
    {
     "data": {
      "application/vnd.jupyter.widget-view+json": {
       "model_id": "67270776e4304290b41ffdd3b961b8f6",
       "version_major": 2,
       "version_minor": 0
      },
      "text/plain": [
       "model.safetensors:   0%|          | 0.00/133M [00:00<?, ?B/s]"
      ]
     },
     "metadata": {},
     "output_type": "display_data"
    },
    {
     "data": {
      "application/vnd.jupyter.widget-view+json": {
       "model_id": "bf80b87034da420fbfae0411ccfd46d2",
       "version_major": 2,
       "version_minor": 0
      },
      "text/plain": [
       "config.yaml:   0%|          | 0.00/202 [00:00<?, ?B/s]"
      ]
     },
     "metadata": {},
     "output_type": "display_data"
    },
    {
     "data": {
      "application/vnd.jupyter.widget-view+json": {
       "model_id": "5143e8024352420bac29de812d72463f",
       "version_major": 2,
       "version_minor": 0
      },
      "text/plain": [
       "documents.jsonl:   0%|          | 0.00/2.96G [00:00<?, ?B/s]"
      ]
     },
     "metadata": {},
     "output_type": "display_data"
    },
    {
     "data": {
      "application/vnd.jupyter.widget-view+json": {
       "model_id": "8ba27b5a25a942acbf51f806d37d65e4",
       "version_major": 2,
       "version_minor": 0
      },
      "text/plain": [
       "embeddings.pt:   0%|          | 0.00/4.79G [00:00<?, ?B/s]"
      ]
     },
     "metadata": {},
     "output_type": "display_data"
    },
    {
     "name": "stdout",
     "output_type": "stream",
     "text": [
      "[2024-11-23 12:20:55,098] [INFO] [relik.retriever.indexers.base.from_pretrained:484] [PID:1219296] [RANK:0] Loading Index from config:\u001b[39m\n",
      "[2024-11-23 12:20:55,099] [INFO] [relik.retriever.indexers.base.from_pretrained:485] [PID:1219296] [RANK:0] {\n",
      "    '_target_': 'relik.retriever.indexers.inmemory.InMemoryDocumentIndex',\n",
      "    'device': 'cuda',\n",
      "    'metadata_fields': [],\n",
      "    'name_or_path': '/media/ssd/perelluis/relik_experiments/indexes/index-e5-small-v2-wikipedia-matryoshka',\n",
      "    'precision': None,\n",
      "    'separator': None,\n",
      "    'use_faiss': False,\n",
      "}\u001b[39m\n",
      "[2024-11-23 12:20:55,099] [INFO] [relik.retriever.indexers.base.from_pretrained:492] [PID:1219296] [RANK:0] Loading documents from /home/aidan/.cache/huggingface/hub/models--relik-ie--index-e5-small-v2-wikipedia-matryoshka/snapshots/8d119e710a7a8be5000b789dfcde3e661767982b/documents.jsonl\u001b[39m\n",
      "[2024-11-23 12:21:14,694] [INFO] [relik.retriever.indexers.base.from_pretrained:535] [PID:1219296] [RANK:0] Loading embeddings from /home/aidan/.cache/huggingface/hub/models--relik-ie--index-e5-small-v2-wikipedia-matryoshka/snapshots/8d119e710a7a8be5000b789dfcde3e661767982b/embeddings.pt\u001b[39m\n"
     ]
    },
    {
     "name": "stderr",
     "output_type": "stream",
     "text": [
      "/home/aidan/.local/lib/python3.12/site-packages/relik/retriever/indexers/base.py:536: FutureWarning: You are using `torch.load` with `weights_only=False` (the current default value), which uses the default pickle module implicitly. It is possible to construct malicious pickle data which will execute arbitrary code during unpickling (See https://github.com/pytorch/pytorch/blob/main/SECURITY.md#untrusted-models for more details). In a future release, the default value for `weights_only` will be flipped to `True`. This limits the functions that could be executed during unpickling. Arbitrary objects will no longer be allowed to be loaded via this mode unless they are explicitly allowlisted by the user via `torch.serialization.add_safe_globals`. We recommend you start setting `weights_only=True` for any use case where you don't have full control of the loaded file. Please open an issue on GitHub for any issues related to this experimental feature.\n",
      "  embeddings = torch.load(embedding_path, map_location=\"cpu\")\n"
     ]
    },
    {
     "name": "stdout",
     "output_type": "stream",
     "text": [
      "[2024-11-23 12:21:16,112] [INFO] [relik.retriever.indexers.inmemory.__init__:65] [PID:1219296] [RANK:0] Both documents and embeddings are provided.\u001b[39m\n"
     ]
    },
    {
     "data": {
      "application/vnd.jupyter.widget-view+json": {
       "model_id": "62cd035c44b4427f94e454f90770f0c7",
       "version_major": 2,
       "version_minor": 0
      },
      "text/plain": [
       "config.yaml:   0%|          | 0.00/171 [00:00<?, ?B/s]"
      ]
     },
     "metadata": {},
     "output_type": "display_data"
    },
    {
     "data": {
      "application/vnd.jupyter.widget-view+json": {
       "model_id": "e00a35d175bb4913b2424703351d5636",
       "version_major": 2,
       "version_minor": 0
      },
      "text/plain": [
       "documents.jsonl:   0%|          | 0.00/107k [00:00<?, ?B/s]"
      ]
     },
     "metadata": {},
     "output_type": "display_data"
    },
    {
     "data": {
      "application/vnd.jupyter.widget-view+json": {
       "model_id": "7221fa874e604f949616db9ccfbe11ec",
       "version_major": 2,
       "version_minor": 0
      },
      "text/plain": [
       "embeddings.pt:   0%|          | 0.00/476k [00:00<?, ?B/s]"
      ]
     },
     "metadata": {},
     "output_type": "display_data"
    },
    {
     "name": "stdout",
     "output_type": "stream",
     "text": [
      "[2024-11-23 12:21:17,297] [INFO] [relik.retriever.indexers.base.from_pretrained:484] [PID:1219296] [RANK:0] Loading Index from config:\u001b[39m\n",
      "[2024-11-23 12:21:17,297] [INFO] [relik.retriever.indexers.base.from_pretrained:485] [PID:1219296] [RANK:0] {\n",
      "    '_target_': 'relik.retriever.indexers.inmemory.InMemoryDocumentIndex',\n",
      "    'device': 'cuda',\n",
      "    'metadata_fields': [],\n",
      "    'name_or_path': 'relik-ie/encoder-e5-small-v2-wikipedia-relations-index',\n",
      "    'precision': None,\n",
      "    'separator': None,\n",
      "    'use_faiss': False,\n",
      "}\u001b[39m\n",
      "[2024-11-23 12:21:17,298] [INFO] [relik.retriever.indexers.base.from_pretrained:492] [PID:1219296] [RANK:0] Loading documents from /home/aidan/.cache/huggingface/hub/models--relik-ie--encoder-e5-small-v2-wikipedia-relations-index/snapshots/f311d53631c26f80a2b1ba16ac65337d06561946/documents.jsonl\u001b[39m\n",
      "[2024-11-23 12:21:17,299] [INFO] [relik.retriever.indexers.base.from_pretrained:535] [PID:1219296] [RANK:0] Loading embeddings from /home/aidan/.cache/huggingface/hub/models--relik-ie--encoder-e5-small-v2-wikipedia-relations-index/snapshots/f311d53631c26f80a2b1ba16ac65337d06561946/embeddings.pt\u001b[39m\n",
      "[2024-11-23 12:21:17,301] [INFO] [relik.retriever.indexers.inmemory.__init__:65] [PID:1219296] [RANK:0] Both documents and embeddings are provided.\u001b[39m\n"
     ]
    },
    {
     "data": {
      "application/vnd.jupyter.widget-view+json": {
       "model_id": "895c67ab2e0647d88c9c2b89544e6f2e",
       "version_major": 2,
       "version_minor": 0
      },
      "text/plain": [
       "config.json:   0%|          | 0.00/767 [00:00<?, ?B/s]"
      ]
     },
     "metadata": {},
     "output_type": "display_data"
    },
    {
     "data": {
      "application/vnd.jupyter.widget-view+json": {
       "model_id": "ae65df92ca994c2aadc5a972ebcd13ab",
       "version_major": 2,
       "version_minor": 0
      },
      "text/plain": [
       "configuration_relik.py:   0%|          | 0.00/1.70k [00:00<?, ?B/s]"
      ]
     },
     "metadata": {},
     "output_type": "display_data"
    },
    {
     "data": {
      "application/vnd.jupyter.widget-view+json": {
       "model_id": "672a60c1af2a4a59a3c595f491b18e24",
       "version_major": 2,
       "version_minor": 0
      },
      "text/plain": [
       "model.safetensors:   0%|          | 0.00/1.78G [00:00<?, ?B/s]"
      ]
     },
     "metadata": {},
     "output_type": "display_data"
    },
    {
     "data": {
      "application/vnd.jupyter.widget-view+json": {
       "model_id": "1efc1c1ba7e34bd994a6ffc3386b8972",
       "version_major": 2,
       "version_minor": 0
      },
      "text/plain": [
       "tokenizer_config.json:   0%|          | 0.00/20.2k [00:00<?, ?B/s]"
      ]
     },
     "metadata": {},
     "output_type": "display_data"
    },
    {
     "data": {
      "application/vnd.jupyter.widget-view+json": {
       "model_id": "379ee06d80da4778a3b077c65b0000a2",
       "version_major": 2,
       "version_minor": 0
      },
      "text/plain": [
       "spm.model:   0%|          | 0.00/2.46M [00:00<?, ?B/s]"
      ]
     },
     "metadata": {},
     "output_type": "display_data"
    },
    {
     "data": {
      "application/vnd.jupyter.widget-view+json": {
       "model_id": "8c48955174b64efabdeb03caa679a6e6",
       "version_major": 2,
       "version_minor": 0
      },
      "text/plain": [
       "tokenizer.json:   0%|          | 0.00/8.67M [00:00<?, ?B/s]"
      ]
     },
     "metadata": {},
     "output_type": "display_data"
    },
    {
     "data": {
      "application/vnd.jupyter.widget-view+json": {
       "model_id": "9947fb4536db4d4abafd0d51562ed7d3",
       "version_major": 2,
       "version_minor": 0
      },
      "text/plain": [
       "added_tokens.json:   0%|          | 0.00/2.02k [00:00<?, ?B/s]"
      ]
     },
     "metadata": {},
     "output_type": "display_data"
    },
    {
     "data": {
      "application/vnd.jupyter.widget-view+json": {
       "model_id": "69ab14201e354d4f8abfd6e9eae872af",
       "version_major": 2,
       "version_minor": 0
      },
      "text/plain": [
       "special_tokens_map.json:   0%|          | 0.00/2.40k [00:00<?, ?B/s]"
      ]
     },
     "metadata": {},
     "output_type": "display_data"
    },
    {
     "name": "stdout",
     "output_type": "stream",
     "text": [
      "[2024-11-23 12:22:36,763] [INFO] [relik.inference.utils.load_reader:383] [PID:1219296] [RANK:0] Moving reader to `cuda`.\u001b[39m\n"
     ]
    }
   ],
   "source": [
    "if(STAGE_1):\n",
    "    from relik import Relik\n",
    "    from relik.inference.data.objects import RelikOutput\n",
    "    import torch\n",
    "    torch.cuda.empty_cache()\n",
    "    relik = Relik.from_pretrained(\"relik-ie/relik-cie-large\", device=\"cuda\")\n",
    "    #, device=\"cuda\")?\n",
    "    #relik = Relik.from_pretrained(\"sapienzanlp/relik-entity-linking-small\")\n"
   ]
  },
  {
   "cell_type": "code",
   "execution_count": 22,
   "id": "770b0dbf",
   "metadata": {},
   "outputs": [],
   "source": [
    "def apply_relik_to_df(df, stage=True):\n",
    "    if not stage:\n",
    "        return df\n",
    "        \n",
    "    # Create new RELIK column\n",
    "    df['RELIK'] = df['GL'].apply(lambda x: relik(x[0]) if isinstance(x, list) and len(x) > 0 else None)\n",
    "    \n",
    "    return df"
   ]
  },
  {
   "cell_type": "code",
   "execution_count": 23,
   "id": "e6586567",
   "metadata": {},
   "outputs": [
    {
     "name": "stdout",
     "output_type": "stream",
     "text": [
      "\u001b[36m[2024-11-23 11:44:22,336] [DEBUG] [relik.reader.data.relik_reader_data.__iter__:527] [PID:1219296] [RANK:0] Dataset finished: 1 number of elements processed\u001b[39m\n",
      "\u001b[36m[2024-11-23 11:44:23,199] [DEBUG] [relik.reader.data.relik_reader_data.__iter__:527] [PID:1219296] [RANK:0] Dataset finished: 1 number of elements processed\u001b[39m\n",
      "\u001b[36m[2024-11-23 11:44:24,037] [DEBUG] [relik.reader.data.relik_reader_data.__iter__:527] [PID:1219296] [RANK:0] Dataset finished: 1 number of elements processed\u001b[39m\n",
      "\u001b[36m[2024-11-23 11:44:24,864] [DEBUG] [relik.reader.data.relik_reader_data.__iter__:527] [PID:1219296] [RANK:0] Dataset finished: 1 number of elements processed\u001b[39m\n",
      "\u001b[36m[2024-11-23 11:44:25,712] [DEBUG] [relik.reader.data.relik_reader_data.__iter__:527] [PID:1219296] [RANK:0] Dataset finished: 1 number of elements processed\u001b[39m\n",
      "\u001b[36m[2024-11-23 11:44:26,529] [DEBUG] [relik.reader.data.relik_reader_data.__iter__:527] [PID:1219296] [RANK:0] Dataset finished: 1 number of elements processed\u001b[39m\n",
      "\u001b[36m[2024-11-23 11:44:27,345] [DEBUG] [relik.reader.data.relik_reader_data.__iter__:527] [PID:1219296] [RANK:0] Dataset finished: 1 number of elements processed\u001b[39m\n",
      "\u001b[36m[2024-11-23 11:44:28,151] [DEBUG] [relik.reader.data.relik_reader_data.__iter__:527] [PID:1219296] [RANK:0] Dataset finished: 1 number of elements processed\u001b[39m\n",
      "\u001b[36m[2024-11-23 11:44:29,003] [DEBUG] [relik.reader.data.relik_reader_data.__iter__:527] [PID:1219296] [RANK:0] Dataset finished: 1 number of elements processed\u001b[39m\n",
      "\u001b[36m[2024-11-23 11:44:29,843] [DEBUG] [relik.reader.data.relik_reader_data.__iter__:527] [PID:1219296] [RANK:0] Dataset finished: 1 number of elements processed\u001b[39m\n",
      "\u001b[36m[2024-11-23 11:44:30,655] [DEBUG] [relik.reader.data.relik_reader_data.__iter__:527] [PID:1219296] [RANK:0] Dataset finished: 1 number of elements processed\u001b[39m\n",
      "\u001b[36m[2024-11-23 11:44:31,491] [DEBUG] [relik.reader.data.relik_reader_data.__iter__:527] [PID:1219296] [RANK:0] Dataset finished: 1 number of elements processed\u001b[39m\n",
      "\u001b[36m[2024-11-23 11:44:32,328] [DEBUG] [relik.reader.data.relik_reader_data.__iter__:527] [PID:1219296] [RANK:0] Dataset finished: 1 number of elements processed\u001b[39m\n",
      "\u001b[36m[2024-11-23 11:44:33,166] [DEBUG] [relik.reader.data.relik_reader_data.__iter__:527] [PID:1219296] [RANK:0] Dataset finished: 1 number of elements processed\u001b[39m\n",
      "\u001b[36m[2024-11-23 11:44:33,993] [DEBUG] [relik.reader.data.relik_reader_data.__iter__:527] [PID:1219296] [RANK:0] Dataset finished: 1 number of elements processed\u001b[39m\n",
      "\u001b[36m[2024-11-23 11:44:34,843] [DEBUG] [relik.reader.data.relik_reader_data.__iter__:527] [PID:1219296] [RANK:0] Dataset finished: 1 number of elements processed\u001b[39m\n",
      "\u001b[36m[2024-11-23 11:44:35,690] [DEBUG] [relik.reader.data.relik_reader_data.__iter__:527] [PID:1219296] [RANK:0] Dataset finished: 1 number of elements processed\u001b[39m\n",
      "\u001b[36m[2024-11-23 11:44:36,520] [DEBUG] [relik.reader.data.relik_reader_data.__iter__:527] [PID:1219296] [RANK:0] Dataset finished: 1 number of elements processed\u001b[39m\n",
      "\u001b[36m[2024-11-23 11:44:37,352] [DEBUG] [relik.reader.data.relik_reader_data.__iter__:527] [PID:1219296] [RANK:0] Dataset finished: 1 number of elements processed\u001b[39m\n",
      "\u001b[36m[2024-11-23 11:44:38,192] [DEBUG] [relik.reader.data.relik_reader_data.__iter__:527] [PID:1219296] [RANK:0] Dataset finished: 1 number of elements processed\u001b[39m\n",
      "\u001b[36m[2024-11-23 11:44:39,024] [DEBUG] [relik.reader.data.relik_reader_data.__iter__:527] [PID:1219296] [RANK:0] Dataset finished: 1 number of elements processed\u001b[39m\n",
      "\u001b[36m[2024-11-23 11:44:39,854] [DEBUG] [relik.reader.data.relik_reader_data.__iter__:527] [PID:1219296] [RANK:0] Dataset finished: 1 number of elements processed\u001b[39m\n",
      "\u001b[36m[2024-11-23 11:44:40,698] [DEBUG] [relik.reader.data.relik_reader_data.__iter__:527] [PID:1219296] [RANK:0] Dataset finished: 1 number of elements processed\u001b[39m\n",
      "\u001b[36m[2024-11-23 11:44:41,528] [DEBUG] [relik.reader.data.relik_reader_data.__iter__:527] [PID:1219296] [RANK:0] Dataset finished: 1 number of elements processed\u001b[39m\n",
      "\u001b[36m[2024-11-23 11:44:42,359] [DEBUG] [relik.reader.data.relik_reader_data.__iter__:527] [PID:1219296] [RANK:0] Dataset finished: 1 number of elements processed\u001b[39m\n",
      "\u001b[36m[2024-11-23 11:44:43,182] [DEBUG] [relik.reader.data.relik_reader_data.__iter__:527] [PID:1219296] [RANK:0] Dataset finished: 1 number of elements processed\u001b[39m\n",
      "\u001b[36m[2024-11-23 11:44:43,998] [DEBUG] [relik.reader.data.relik_reader_data.__iter__:527] [PID:1219296] [RANK:0] Dataset finished: 1 number of elements processed\u001b[39m\n"
     ]
    },
    {
     "ename": "KeyboardInterrupt",
     "evalue": "",
     "output_type": "error",
     "traceback": [
      "\u001b[0;31m---------------------------------------------------------------------------\u001b[0m",
      "\u001b[0;31mKeyboardInterrupt\u001b[0m                         Traceback (most recent call last)",
      "Cell \u001b[0;32mIn[23], line 2\u001b[0m\n\u001b[1;32m      1\u001b[0m \u001b[38;5;28;01mif\u001b[39;00m(STAGE_1):\n\u001b[0;32m----> 2\u001b[0m     department_frame \u001b[38;5;241m=\u001b[39m \u001b[43mapply_relik_to_df\u001b[49m\u001b[43m(\u001b[49m\u001b[43mdepartment_frame\u001b[49m\u001b[43m)\u001b[49m\n\u001b[1;32m      3\u001b[0m     \u001b[38;5;28mprint\u001b[39m(department_frame\u001b[38;5;241m.\u001b[39miloc[\u001b[38;5;241m0\u001b[39m][\u001b[38;5;124m'\u001b[39m\u001b[38;5;124mRELIK\u001b[39m\u001b[38;5;124m'\u001b[39m])  \u001b[38;5;66;03m# Print first result for verification\u001b[39;00m\n\u001b[1;32m      4\u001b[0m     department_frame\u001b[38;5;241m.\u001b[39mto_pickle(\u001b[38;5;124m\"\u001b[39m\u001b[38;5;124m./relikApplied.pkl\u001b[39m\u001b[38;5;124m\"\u001b[39m) \n",
      "Cell \u001b[0;32mIn[22], line 6\u001b[0m, in \u001b[0;36mapply_relik_to_df\u001b[0;34m(df, stage)\u001b[0m\n\u001b[1;32m      3\u001b[0m     \u001b[38;5;28;01mreturn\u001b[39;00m df\n\u001b[1;32m      5\u001b[0m \u001b[38;5;66;03m# Create new RELIK column\u001b[39;00m\n\u001b[0;32m----> 6\u001b[0m df[\u001b[38;5;124m'\u001b[39m\u001b[38;5;124mRELIK\u001b[39m\u001b[38;5;124m'\u001b[39m] \u001b[38;5;241m=\u001b[39m \u001b[43mdf\u001b[49m\u001b[43m[\u001b[49m\u001b[38;5;124;43m'\u001b[39;49m\u001b[38;5;124;43mGL\u001b[39;49m\u001b[38;5;124;43m'\u001b[39;49m\u001b[43m]\u001b[49m\u001b[38;5;241;43m.\u001b[39;49m\u001b[43mapply\u001b[49m\u001b[43m(\u001b[49m\u001b[38;5;28;43;01mlambda\u001b[39;49;00m\u001b[43m \u001b[49m\u001b[43mx\u001b[49m\u001b[43m:\u001b[49m\u001b[43m \u001b[49m\u001b[43mrelik\u001b[49m\u001b[43m(\u001b[49m\u001b[43mx\u001b[49m\u001b[43m[\u001b[49m\u001b[38;5;241;43m0\u001b[39;49m\u001b[43m]\u001b[49m\u001b[43m)\u001b[49m\u001b[43m \u001b[49m\u001b[38;5;28;43;01mif\u001b[39;49;00m\u001b[43m \u001b[49m\u001b[38;5;28;43misinstance\u001b[39;49m\u001b[43m(\u001b[49m\u001b[43mx\u001b[49m\u001b[43m,\u001b[49m\u001b[43m \u001b[49m\u001b[38;5;28;43mlist\u001b[39;49m\u001b[43m)\u001b[49m\u001b[43m \u001b[49m\u001b[38;5;129;43;01mand\u001b[39;49;00m\u001b[43m \u001b[49m\u001b[38;5;28;43mlen\u001b[39;49m\u001b[43m(\u001b[49m\u001b[43mx\u001b[49m\u001b[43m)\u001b[49m\u001b[43m \u001b[49m\u001b[38;5;241;43m>\u001b[39;49m\u001b[43m \u001b[49m\u001b[38;5;241;43m0\u001b[39;49m\u001b[43m \u001b[49m\u001b[38;5;28;43;01melse\u001b[39;49;00m\u001b[43m \u001b[49m\u001b[38;5;28;43;01mNone\u001b[39;49;00m\u001b[43m)\u001b[49m\n\u001b[1;32m      8\u001b[0m \u001b[38;5;28;01mreturn\u001b[39;00m df\n",
      "File \u001b[0;32m~/.local/lib/python3.12/site-packages/pandas/core/series.py:4924\u001b[0m, in \u001b[0;36mSeries.apply\u001b[0;34m(self, func, convert_dtype, args, by_row, **kwargs)\u001b[0m\n\u001b[1;32m   4789\u001b[0m \u001b[38;5;28;01mdef\u001b[39;00m \u001b[38;5;21mapply\u001b[39m(\n\u001b[1;32m   4790\u001b[0m     \u001b[38;5;28mself\u001b[39m,\n\u001b[1;32m   4791\u001b[0m     func: AggFuncType,\n\u001b[0;32m   (...)\u001b[0m\n\u001b[1;32m   4796\u001b[0m     \u001b[38;5;241m*\u001b[39m\u001b[38;5;241m*\u001b[39mkwargs,\n\u001b[1;32m   4797\u001b[0m ) \u001b[38;5;241m-\u001b[39m\u001b[38;5;241m>\u001b[39m DataFrame \u001b[38;5;241m|\u001b[39m Series:\n\u001b[1;32m   4798\u001b[0m \u001b[38;5;250m    \u001b[39m\u001b[38;5;124;03m\"\"\"\u001b[39;00m\n\u001b[1;32m   4799\u001b[0m \u001b[38;5;124;03m    Invoke function on values of Series.\u001b[39;00m\n\u001b[1;32m   4800\u001b[0m \n\u001b[0;32m   (...)\u001b[0m\n\u001b[1;32m   4915\u001b[0m \u001b[38;5;124;03m    dtype: float64\u001b[39;00m\n\u001b[1;32m   4916\u001b[0m \u001b[38;5;124;03m    \"\"\"\u001b[39;00m\n\u001b[1;32m   4917\u001b[0m     \u001b[38;5;28;01mreturn\u001b[39;00m \u001b[43mSeriesApply\u001b[49m\u001b[43m(\u001b[49m\n\u001b[1;32m   4918\u001b[0m \u001b[43m        \u001b[49m\u001b[38;5;28;43mself\u001b[39;49m\u001b[43m,\u001b[49m\n\u001b[1;32m   4919\u001b[0m \u001b[43m        \u001b[49m\u001b[43mfunc\u001b[49m\u001b[43m,\u001b[49m\n\u001b[1;32m   4920\u001b[0m \u001b[43m        \u001b[49m\u001b[43mconvert_dtype\u001b[49m\u001b[38;5;241;43m=\u001b[39;49m\u001b[43mconvert_dtype\u001b[49m\u001b[43m,\u001b[49m\n\u001b[1;32m   4921\u001b[0m \u001b[43m        \u001b[49m\u001b[43mby_row\u001b[49m\u001b[38;5;241;43m=\u001b[39;49m\u001b[43mby_row\u001b[49m\u001b[43m,\u001b[49m\n\u001b[1;32m   4922\u001b[0m \u001b[43m        \u001b[49m\u001b[43margs\u001b[49m\u001b[38;5;241;43m=\u001b[39;49m\u001b[43margs\u001b[49m\u001b[43m,\u001b[49m\n\u001b[1;32m   4923\u001b[0m \u001b[43m        \u001b[49m\u001b[43mkwargs\u001b[49m\u001b[38;5;241;43m=\u001b[39;49m\u001b[43mkwargs\u001b[49m\u001b[43m,\u001b[49m\n\u001b[0;32m-> 4924\u001b[0m \u001b[43m    \u001b[49m\u001b[43m)\u001b[49m\u001b[38;5;241;43m.\u001b[39;49m\u001b[43mapply\u001b[49m\u001b[43m(\u001b[49m\u001b[43m)\u001b[49m\n",
      "File \u001b[0;32m~/.local/lib/python3.12/site-packages/pandas/core/apply.py:1427\u001b[0m, in \u001b[0;36mSeriesApply.apply\u001b[0;34m(self)\u001b[0m\n\u001b[1;32m   1424\u001b[0m     \u001b[38;5;28;01mreturn\u001b[39;00m \u001b[38;5;28mself\u001b[39m\u001b[38;5;241m.\u001b[39mapply_compat()\n\u001b[1;32m   1426\u001b[0m \u001b[38;5;66;03m# self.func is Callable\u001b[39;00m\n\u001b[0;32m-> 1427\u001b[0m \u001b[38;5;28;01mreturn\u001b[39;00m \u001b[38;5;28;43mself\u001b[39;49m\u001b[38;5;241;43m.\u001b[39;49m\u001b[43mapply_standard\u001b[49m\u001b[43m(\u001b[49m\u001b[43m)\u001b[49m\n",
      "File \u001b[0;32m~/.local/lib/python3.12/site-packages/pandas/core/apply.py:1507\u001b[0m, in \u001b[0;36mSeriesApply.apply_standard\u001b[0;34m(self)\u001b[0m\n\u001b[1;32m   1501\u001b[0m \u001b[38;5;66;03m# row-wise access\u001b[39;00m\n\u001b[1;32m   1502\u001b[0m \u001b[38;5;66;03m# apply doesn't have a `na_action` keyword and for backward compat reasons\u001b[39;00m\n\u001b[1;32m   1503\u001b[0m \u001b[38;5;66;03m# we need to give `na_action=\"ignore\"` for categorical data.\u001b[39;00m\n\u001b[1;32m   1504\u001b[0m \u001b[38;5;66;03m# TODO: remove the `na_action=\"ignore\"` when that default has been changed in\u001b[39;00m\n\u001b[1;32m   1505\u001b[0m \u001b[38;5;66;03m#  Categorical (GH51645).\u001b[39;00m\n\u001b[1;32m   1506\u001b[0m action \u001b[38;5;241m=\u001b[39m \u001b[38;5;124m\"\u001b[39m\u001b[38;5;124mignore\u001b[39m\u001b[38;5;124m\"\u001b[39m \u001b[38;5;28;01mif\u001b[39;00m \u001b[38;5;28misinstance\u001b[39m(obj\u001b[38;5;241m.\u001b[39mdtype, CategoricalDtype) \u001b[38;5;28;01melse\u001b[39;00m \u001b[38;5;28;01mNone\u001b[39;00m\n\u001b[0;32m-> 1507\u001b[0m mapped \u001b[38;5;241m=\u001b[39m \u001b[43mobj\u001b[49m\u001b[38;5;241;43m.\u001b[39;49m\u001b[43m_map_values\u001b[49m\u001b[43m(\u001b[49m\n\u001b[1;32m   1508\u001b[0m \u001b[43m    \u001b[49m\u001b[43mmapper\u001b[49m\u001b[38;5;241;43m=\u001b[39;49m\u001b[43mcurried\u001b[49m\u001b[43m,\u001b[49m\u001b[43m \u001b[49m\u001b[43mna_action\u001b[49m\u001b[38;5;241;43m=\u001b[39;49m\u001b[43maction\u001b[49m\u001b[43m,\u001b[49m\u001b[43m \u001b[49m\u001b[43mconvert\u001b[49m\u001b[38;5;241;43m=\u001b[39;49m\u001b[38;5;28;43mself\u001b[39;49m\u001b[38;5;241;43m.\u001b[39;49m\u001b[43mconvert_dtype\u001b[49m\n\u001b[1;32m   1509\u001b[0m \u001b[43m\u001b[49m\u001b[43m)\u001b[49m\n\u001b[1;32m   1511\u001b[0m \u001b[38;5;28;01mif\u001b[39;00m \u001b[38;5;28mlen\u001b[39m(mapped) \u001b[38;5;129;01mand\u001b[39;00m \u001b[38;5;28misinstance\u001b[39m(mapped[\u001b[38;5;241m0\u001b[39m], ABCSeries):\n\u001b[1;32m   1512\u001b[0m     \u001b[38;5;66;03m# GH#43986 Need to do list(mapped) in order to get treated as nested\u001b[39;00m\n\u001b[1;32m   1513\u001b[0m     \u001b[38;5;66;03m#  See also GH#25959 regarding EA support\u001b[39;00m\n\u001b[1;32m   1514\u001b[0m     \u001b[38;5;28;01mreturn\u001b[39;00m obj\u001b[38;5;241m.\u001b[39m_constructor_expanddim(\u001b[38;5;28mlist\u001b[39m(mapped), index\u001b[38;5;241m=\u001b[39mobj\u001b[38;5;241m.\u001b[39mindex)\n",
      "File \u001b[0;32m~/.local/lib/python3.12/site-packages/pandas/core/base.py:921\u001b[0m, in \u001b[0;36mIndexOpsMixin._map_values\u001b[0;34m(self, mapper, na_action, convert)\u001b[0m\n\u001b[1;32m    918\u001b[0m \u001b[38;5;28;01mif\u001b[39;00m \u001b[38;5;28misinstance\u001b[39m(arr, ExtensionArray):\n\u001b[1;32m    919\u001b[0m     \u001b[38;5;28;01mreturn\u001b[39;00m arr\u001b[38;5;241m.\u001b[39mmap(mapper, na_action\u001b[38;5;241m=\u001b[39mna_action)\n\u001b[0;32m--> 921\u001b[0m \u001b[38;5;28;01mreturn\u001b[39;00m \u001b[43malgorithms\u001b[49m\u001b[38;5;241;43m.\u001b[39;49m\u001b[43mmap_array\u001b[49m\u001b[43m(\u001b[49m\u001b[43marr\u001b[49m\u001b[43m,\u001b[49m\u001b[43m \u001b[49m\u001b[43mmapper\u001b[49m\u001b[43m,\u001b[49m\u001b[43m \u001b[49m\u001b[43mna_action\u001b[49m\u001b[38;5;241;43m=\u001b[39;49m\u001b[43mna_action\u001b[49m\u001b[43m,\u001b[49m\u001b[43m \u001b[49m\u001b[43mconvert\u001b[49m\u001b[38;5;241;43m=\u001b[39;49m\u001b[43mconvert\u001b[49m\u001b[43m)\u001b[49m\n",
      "File \u001b[0;32m~/.local/lib/python3.12/site-packages/pandas/core/algorithms.py:1743\u001b[0m, in \u001b[0;36mmap_array\u001b[0;34m(arr, mapper, na_action, convert)\u001b[0m\n\u001b[1;32m   1741\u001b[0m values \u001b[38;5;241m=\u001b[39m arr\u001b[38;5;241m.\u001b[39mastype(\u001b[38;5;28mobject\u001b[39m, copy\u001b[38;5;241m=\u001b[39m\u001b[38;5;28;01mFalse\u001b[39;00m)\n\u001b[1;32m   1742\u001b[0m \u001b[38;5;28;01mif\u001b[39;00m na_action \u001b[38;5;129;01mis\u001b[39;00m \u001b[38;5;28;01mNone\u001b[39;00m:\n\u001b[0;32m-> 1743\u001b[0m     \u001b[38;5;28;01mreturn\u001b[39;00m \u001b[43mlib\u001b[49m\u001b[38;5;241;43m.\u001b[39;49m\u001b[43mmap_infer\u001b[49m\u001b[43m(\u001b[49m\u001b[43mvalues\u001b[49m\u001b[43m,\u001b[49m\u001b[43m \u001b[49m\u001b[43mmapper\u001b[49m\u001b[43m,\u001b[49m\u001b[43m \u001b[49m\u001b[43mconvert\u001b[49m\u001b[38;5;241;43m=\u001b[39;49m\u001b[43mconvert\u001b[49m\u001b[43m)\u001b[49m\n\u001b[1;32m   1744\u001b[0m \u001b[38;5;28;01melse\u001b[39;00m:\n\u001b[1;32m   1745\u001b[0m     \u001b[38;5;28;01mreturn\u001b[39;00m lib\u001b[38;5;241m.\u001b[39mmap_infer_mask(\n\u001b[1;32m   1746\u001b[0m         values, mapper, mask\u001b[38;5;241m=\u001b[39misna(values)\u001b[38;5;241m.\u001b[39mview(np\u001b[38;5;241m.\u001b[39muint8), convert\u001b[38;5;241m=\u001b[39mconvert\n\u001b[1;32m   1747\u001b[0m     )\n",
      "File \u001b[0;32mlib.pyx:2972\u001b[0m, in \u001b[0;36mpandas._libs.lib.map_infer\u001b[0;34m()\u001b[0m\n",
      "Cell \u001b[0;32mIn[22], line 6\u001b[0m, in \u001b[0;36mapply_relik_to_df.<locals>.<lambda>\u001b[0;34m(x)\u001b[0m\n\u001b[1;32m      3\u001b[0m     \u001b[38;5;28;01mreturn\u001b[39;00m df\n\u001b[1;32m      5\u001b[0m \u001b[38;5;66;03m# Create new RELIK column\u001b[39;00m\n\u001b[0;32m----> 6\u001b[0m df[\u001b[38;5;124m'\u001b[39m\u001b[38;5;124mRELIK\u001b[39m\u001b[38;5;124m'\u001b[39m] \u001b[38;5;241m=\u001b[39m df[\u001b[38;5;124m'\u001b[39m\u001b[38;5;124mGL\u001b[39m\u001b[38;5;124m'\u001b[39m]\u001b[38;5;241m.\u001b[39mapply(\u001b[38;5;28;01mlambda\u001b[39;00m x: \u001b[43mrelik\u001b[49m\u001b[43m(\u001b[49m\u001b[43mx\u001b[49m\u001b[43m[\u001b[49m\u001b[38;5;241;43m0\u001b[39;49m\u001b[43m]\u001b[49m\u001b[43m)\u001b[49m \u001b[38;5;28;01mif\u001b[39;00m \u001b[38;5;28misinstance\u001b[39m(x, \u001b[38;5;28mlist\u001b[39m) \u001b[38;5;129;01mand\u001b[39;00m \u001b[38;5;28mlen\u001b[39m(x) \u001b[38;5;241m>\u001b[39m \u001b[38;5;241m0\u001b[39m \u001b[38;5;28;01melse\u001b[39;00m \u001b[38;5;28;01mNone\u001b[39;00m)\n\u001b[1;32m      8\u001b[0m \u001b[38;5;28;01mreturn\u001b[39;00m df\n",
      "File \u001b[0;32m~/.local/lib/python3.12/site-packages/relik/inference/annotator.py:488\u001b[0m, in \u001b[0;36mRelik.__call__\u001b[0;34m(self, text, windows, candidates, mentions, top_k, window_size, window_stride, is_split_into_words, retriever_batch_size, reader_batch_size, return_windows, use_doc_topic, annotation_type, progress_bar, **kwargs)\u001b[0m\n\u001b[1;32m    486\u001b[0m     \u001b[38;5;28;01mif\u001b[39;00m windows_candidates[task_type] \u001b[38;5;129;01mis\u001b[39;00m \u001b[38;5;28;01mNone\u001b[39;00m:\n\u001b[1;32m    487\u001b[0m         \u001b[38;5;28;01mif\u001b[39;00m retriever \u001b[38;5;129;01mis\u001b[39;00m \u001b[38;5;129;01mnot\u001b[39;00m \u001b[38;5;28;01mNone\u001b[39;00m:\n\u001b[0;32m--> 488\u001b[0m             retriever_out \u001b[38;5;241m=\u001b[39m \u001b[43mretriever\u001b[49m\u001b[38;5;241;43m.\u001b[39;49m\u001b[43mretrieve\u001b[49m\u001b[43m(\u001b[49m\n\u001b[1;32m    489\u001b[0m \u001b[43m                \u001b[49m\u001b[43m[\u001b[49m\u001b[43mw\u001b[49m\u001b[38;5;241;43m.\u001b[39;49m\u001b[43mtext\u001b[49m\u001b[43m \u001b[49m\u001b[38;5;28;43;01mfor\u001b[39;49;00m\u001b[43m \u001b[49m\u001b[43mw\u001b[49m\u001b[43m \u001b[49m\u001b[38;5;129;43;01min\u001b[39;49;00m\u001b[43m \u001b[49m\u001b[43mwindows\u001b[49m\u001b[43m]\u001b[49m\u001b[43m,\u001b[49m\n\u001b[1;32m    490\u001b[0m \u001b[43m                \u001b[49m\u001b[43mtext_pair\u001b[49m\u001b[38;5;241;43m=\u001b[39;49m\u001b[43m[\u001b[49m\n\u001b[1;32m    491\u001b[0m \u001b[43m                    \u001b[49m\u001b[43m(\u001b[49m\n\u001b[1;32m    492\u001b[0m \u001b[43m                        \u001b[49m\u001b[43mw\u001b[49m\u001b[38;5;241;43m.\u001b[39;49m\u001b[43mdoc_topic\u001b[49m\n\u001b[1;32m    493\u001b[0m \u001b[43m                        \u001b[49m\u001b[38;5;28;43;01mif\u001b[39;49;00m\u001b[43m \u001b[49m\u001b[43m(\u001b[49m\u001b[43mw\u001b[49m\u001b[38;5;241;43m.\u001b[39;49m\u001b[43mdoc_topic\u001b[49m\u001b[43m \u001b[49m\u001b[38;5;129;43;01mis\u001b[39;49;00m\u001b[43m \u001b[49m\u001b[38;5;129;43;01mnot\u001b[39;49;00m\u001b[43m \u001b[49m\u001b[38;5;28;43;01mNone\u001b[39;49;00m\u001b[43m \u001b[49m\u001b[38;5;129;43;01mand\u001b[39;49;00m\u001b[43m \u001b[49m\u001b[43muse_doc_topic\u001b[49m\u001b[43m)\u001b[49m\n\u001b[1;32m    494\u001b[0m \u001b[43m                        \u001b[49m\u001b[38;5;28;43;01melse\u001b[39;49;00m\u001b[43m \u001b[49m\u001b[38;5;28;43;01mNone\u001b[39;49;00m\n\u001b[1;32m    495\u001b[0m \u001b[43m                    \u001b[49m\u001b[43m)\u001b[49m\n\u001b[1;32m    496\u001b[0m \u001b[43m                    \u001b[49m\u001b[38;5;28;43;01mfor\u001b[39;49;00m\u001b[43m \u001b[49m\u001b[43mw\u001b[49m\u001b[43m \u001b[49m\u001b[38;5;129;43;01min\u001b[39;49;00m\u001b[43m \u001b[49m\u001b[43mwindows\u001b[49m\n\u001b[1;32m    497\u001b[0m \u001b[43m                \u001b[49m\u001b[43m]\u001b[49m\u001b[43m,\u001b[49m\n\u001b[1;32m    498\u001b[0m \u001b[43m                \u001b[49m\u001b[43mk\u001b[49m\u001b[38;5;241;43m=\u001b[39;49m\u001b[43mtop_k\u001b[49m\u001b[43m,\u001b[49m\n\u001b[1;32m    499\u001b[0m \u001b[43m                \u001b[49m\u001b[43mbatch_size\u001b[49m\u001b[38;5;241;43m=\u001b[39;49m\u001b[43mretriever_batch_size\u001b[49m\u001b[43m,\u001b[49m\n\u001b[1;32m    500\u001b[0m \u001b[43m                \u001b[49m\u001b[43mprogress_bar\u001b[49m\u001b[38;5;241;43m=\u001b[39;49m\u001b[43mprogress_bar\u001b[49m\u001b[43m,\u001b[49m\n\u001b[1;32m    501\u001b[0m \u001b[43m                \u001b[49m\u001b[38;5;241;43m*\u001b[39;49m\u001b[38;5;241;43m*\u001b[39;49m\u001b[43mkwargs\u001b[49m\u001b[43m,\u001b[49m\n\u001b[1;32m    502\u001b[0m \u001b[43m            \u001b[49m\u001b[43m)\u001b[49m\n\u001b[1;32m    503\u001b[0m             windows_candidates[task_type] \u001b[38;5;241m=\u001b[39m [\n\u001b[1;32m    504\u001b[0m                 [p\u001b[38;5;241m.\u001b[39mdocument \u001b[38;5;28;01mfor\u001b[39;00m p \u001b[38;5;129;01min\u001b[39;00m predictions]\n\u001b[1;32m    505\u001b[0m                 \u001b[38;5;28;01mfor\u001b[39;00m predictions \u001b[38;5;129;01min\u001b[39;00m retriever_out\n\u001b[1;32m    506\u001b[0m             ]\n\u001b[1;32m    508\u001b[0m \u001b[38;5;66;03m# clean up None's\u001b[39;00m\n",
      "File \u001b[0;32m~/.local/lib/python3.12/site-packages/torch/utils/_contextlib.py:116\u001b[0m, in \u001b[0;36mcontext_decorator.<locals>.decorate_context\u001b[0;34m(*args, **kwargs)\u001b[0m\n\u001b[1;32m    113\u001b[0m \u001b[38;5;129m@functools\u001b[39m\u001b[38;5;241m.\u001b[39mwraps(func)\n\u001b[1;32m    114\u001b[0m \u001b[38;5;28;01mdef\u001b[39;00m \u001b[38;5;21mdecorate_context\u001b[39m(\u001b[38;5;241m*\u001b[39margs, \u001b[38;5;241m*\u001b[39m\u001b[38;5;241m*\u001b[39mkwargs):\n\u001b[1;32m    115\u001b[0m     \u001b[38;5;28;01mwith\u001b[39;00m ctx_factory():\n\u001b[0;32m--> 116\u001b[0m         \u001b[38;5;28;01mreturn\u001b[39;00m \u001b[43mfunc\u001b[49m\u001b[43m(\u001b[49m\u001b[38;5;241;43m*\u001b[39;49m\u001b[43margs\u001b[49m\u001b[43m,\u001b[49m\u001b[43m \u001b[49m\u001b[38;5;241;43m*\u001b[39;49m\u001b[38;5;241;43m*\u001b[39;49m\u001b[43mkwargs\u001b[49m\u001b[43m)\u001b[49m\n",
      "File \u001b[0;32m~/.local/lib/python3.12/site-packages/torch/utils/_contextlib.py:116\u001b[0m, in \u001b[0;36mcontext_decorator.<locals>.decorate_context\u001b[0;34m(*args, **kwargs)\u001b[0m\n\u001b[1;32m    113\u001b[0m \u001b[38;5;129m@functools\u001b[39m\u001b[38;5;241m.\u001b[39mwraps(func)\n\u001b[1;32m    114\u001b[0m \u001b[38;5;28;01mdef\u001b[39;00m \u001b[38;5;21mdecorate_context\u001b[39m(\u001b[38;5;241m*\u001b[39margs, \u001b[38;5;241m*\u001b[39m\u001b[38;5;241m*\u001b[39mkwargs):\n\u001b[1;32m    115\u001b[0m     \u001b[38;5;28;01mwith\u001b[39;00m ctx_factory():\n\u001b[0;32m--> 116\u001b[0m         \u001b[38;5;28;01mreturn\u001b[39;00m \u001b[43mfunc\u001b[49m\u001b[43m(\u001b[49m\u001b[38;5;241;43m*\u001b[39;49m\u001b[43margs\u001b[49m\u001b[43m,\u001b[49m\u001b[43m \u001b[49m\u001b[38;5;241;43m*\u001b[39;49m\u001b[38;5;241;43m*\u001b[39;49m\u001b[43mkwargs\u001b[49m\u001b[43m)\u001b[49m\n",
      "File \u001b[0;32m~/.local/lib/python3.12/site-packages/relik/retriever/pytorch_modules/model.py:356\u001b[0m, in \u001b[0;36mGoldenRetriever.retrieve\u001b[0;34m(self, text, text_pair, input_ids, attention_mask, token_type_ids, k, max_length, precision, collate_fn, batch_size, num_workers, progress_bar, **kwargs)\u001b[0m\n\u001b[1;32m    354\u001b[0m \u001b[38;5;28;01mtry\u001b[39;00m:\n\u001b[1;32m    355\u001b[0m     \u001b[38;5;28;01mwith\u001b[39;00m get_autocast_context(\u001b[38;5;28mself\u001b[39m\u001b[38;5;241m.\u001b[39mdevice, precision):\n\u001b[0;32m--> 356\u001b[0m \u001b[43m        \u001b[49m\u001b[38;5;28;43;01mfor\u001b[39;49;00m\u001b[43m \u001b[49m\u001b[43mbatch\u001b[49m\u001b[43m \u001b[49m\u001b[38;5;129;43;01min\u001b[39;49;00m\u001b[43m \u001b[49m\u001b[43mdataloader\u001b[49m\u001b[43m:\u001b[49m\n\u001b[1;32m    357\u001b[0m \u001b[43m            \u001b[49m\u001b[43mbatch\u001b[49m\u001b[43m \u001b[49m\u001b[38;5;241;43m=\u001b[39;49m\u001b[43m \u001b[49m\u001b[43mbatch\u001b[49m\u001b[38;5;241;43m.\u001b[39;49m\u001b[43mto\u001b[49m\u001b[43m(\u001b[49m\u001b[38;5;28;43mself\u001b[39;49m\u001b[38;5;241;43m.\u001b[39;49m\u001b[43mdevice\u001b[49m\u001b[43m)\u001b[49m\n\u001b[1;32m    358\u001b[0m \u001b[43m            \u001b[49m\u001b[43mquestion_encodings\u001b[49m\u001b[43m \u001b[49m\u001b[38;5;241;43m=\u001b[39;49m\u001b[43m \u001b[49m\u001b[38;5;28;43mself\u001b[39;49m\u001b[38;5;241;43m.\u001b[39;49m\u001b[43mquestion_encoder\u001b[49m\u001b[43m(\u001b[49m\u001b[38;5;241;43m*\u001b[39;49m\u001b[38;5;241;43m*\u001b[39;49m\u001b[43mbatch\u001b[49m\u001b[43m)\u001b[49m\u001b[38;5;241;43m.\u001b[39;49m\u001b[43mpooler_output\u001b[49m\n",
      "File \u001b[0;32m~/.local/lib/python3.12/site-packages/torch/utils/data/dataloader.py:630\u001b[0m, in \u001b[0;36m_BaseDataLoaderIter.__next__\u001b[0;34m(self)\u001b[0m\n\u001b[1;32m    627\u001b[0m \u001b[38;5;28;01mif\u001b[39;00m \u001b[38;5;28mself\u001b[39m\u001b[38;5;241m.\u001b[39m_sampler_iter \u001b[38;5;129;01mis\u001b[39;00m \u001b[38;5;28;01mNone\u001b[39;00m:\n\u001b[1;32m    628\u001b[0m     \u001b[38;5;66;03m# TODO(https://github.com/pytorch/pytorch/issues/76750)\u001b[39;00m\n\u001b[1;32m    629\u001b[0m     \u001b[38;5;28mself\u001b[39m\u001b[38;5;241m.\u001b[39m_reset()  \u001b[38;5;66;03m# type: ignore[call-arg]\u001b[39;00m\n\u001b[0;32m--> 630\u001b[0m data \u001b[38;5;241m=\u001b[39m \u001b[38;5;28;43mself\u001b[39;49m\u001b[38;5;241;43m.\u001b[39;49m\u001b[43m_next_data\u001b[49m\u001b[43m(\u001b[49m\u001b[43m)\u001b[49m\n\u001b[1;32m    631\u001b[0m \u001b[38;5;28mself\u001b[39m\u001b[38;5;241m.\u001b[39m_num_yielded \u001b[38;5;241m+\u001b[39m\u001b[38;5;241m=\u001b[39m \u001b[38;5;241m1\u001b[39m\n\u001b[1;32m    632\u001b[0m \u001b[38;5;28;01mif\u001b[39;00m \u001b[38;5;28mself\u001b[39m\u001b[38;5;241m.\u001b[39m_dataset_kind \u001b[38;5;241m==\u001b[39m _DatasetKind\u001b[38;5;241m.\u001b[39mIterable \u001b[38;5;129;01mand\u001b[39;00m \\\n\u001b[1;32m    633\u001b[0m         \u001b[38;5;28mself\u001b[39m\u001b[38;5;241m.\u001b[39m_IterableDataset_len_called \u001b[38;5;129;01mis\u001b[39;00m \u001b[38;5;129;01mnot\u001b[39;00m \u001b[38;5;28;01mNone\u001b[39;00m \u001b[38;5;129;01mand\u001b[39;00m \\\n\u001b[1;32m    634\u001b[0m         \u001b[38;5;28mself\u001b[39m\u001b[38;5;241m.\u001b[39m_num_yielded \u001b[38;5;241m>\u001b[39m \u001b[38;5;28mself\u001b[39m\u001b[38;5;241m.\u001b[39m_IterableDataset_len_called:\n",
      "File \u001b[0;32m~/.local/lib/python3.12/site-packages/torch/utils/data/dataloader.py:1316\u001b[0m, in \u001b[0;36m_MultiProcessingDataLoaderIter._next_data\u001b[0;34m(self)\u001b[0m\n\u001b[1;32m   1313\u001b[0m \u001b[38;5;28;01melse\u001b[39;00m:\n\u001b[1;32m   1314\u001b[0m     \u001b[38;5;66;03m# no valid `self._rcvd_idx` is found (i.e., didn't break)\u001b[39;00m\n\u001b[1;32m   1315\u001b[0m     \u001b[38;5;28;01mif\u001b[39;00m \u001b[38;5;129;01mnot\u001b[39;00m \u001b[38;5;28mself\u001b[39m\u001b[38;5;241m.\u001b[39m_persistent_workers:\n\u001b[0;32m-> 1316\u001b[0m         \u001b[38;5;28;43mself\u001b[39;49m\u001b[38;5;241;43m.\u001b[39;49m\u001b[43m_shutdown_workers\u001b[49m\u001b[43m(\u001b[49m\u001b[43m)\u001b[49m\n\u001b[1;32m   1317\u001b[0m     \u001b[38;5;28;01mraise\u001b[39;00m \u001b[38;5;167;01mStopIteration\u001b[39;00m\n\u001b[1;32m   1319\u001b[0m \u001b[38;5;66;03m# Now `self._rcvd_idx` is the batch index we want to fetch\u001b[39;00m\n\u001b[1;32m   1320\u001b[0m \n\u001b[1;32m   1321\u001b[0m \u001b[38;5;66;03m# Check if the next sample has already been generated\u001b[39;00m\n",
      "File \u001b[0;32m~/.local/lib/python3.12/site-packages/torch/utils/data/dataloader.py:1441\u001b[0m, in \u001b[0;36m_MultiProcessingDataLoaderIter._shutdown_workers\u001b[0;34m(self)\u001b[0m\n\u001b[1;32m   1436\u001b[0m         \u001b[38;5;28mself\u001b[39m\u001b[38;5;241m.\u001b[39m_mark_worker_as_unavailable(worker_id, shutdown\u001b[38;5;241m=\u001b[39m\u001b[38;5;28;01mTrue\u001b[39;00m)\n\u001b[1;32m   1437\u001b[0m \u001b[38;5;28;01mfor\u001b[39;00m w \u001b[38;5;129;01min\u001b[39;00m \u001b[38;5;28mself\u001b[39m\u001b[38;5;241m.\u001b[39m_workers:\n\u001b[1;32m   1438\u001b[0m     \u001b[38;5;66;03m# We should be able to join here, but in case anything went\u001b[39;00m\n\u001b[1;32m   1439\u001b[0m     \u001b[38;5;66;03m# wrong, we set a timeout and if the workers fail to join,\u001b[39;00m\n\u001b[1;32m   1440\u001b[0m     \u001b[38;5;66;03m# they are killed in the `finally` block.\u001b[39;00m\n\u001b[0;32m-> 1441\u001b[0m     \u001b[43mw\u001b[49m\u001b[38;5;241;43m.\u001b[39;49m\u001b[43mjoin\u001b[49m\u001b[43m(\u001b[49m\u001b[43mtimeout\u001b[49m\u001b[38;5;241;43m=\u001b[39;49m\u001b[43m_utils\u001b[49m\u001b[38;5;241;43m.\u001b[39;49m\u001b[43mMP_STATUS_CHECK_INTERVAL\u001b[49m\u001b[43m)\u001b[49m\n\u001b[1;32m   1442\u001b[0m \u001b[38;5;28;01mfor\u001b[39;00m q \u001b[38;5;129;01min\u001b[39;00m \u001b[38;5;28mself\u001b[39m\u001b[38;5;241m.\u001b[39m_index_queues:\n\u001b[1;32m   1443\u001b[0m     q\u001b[38;5;241m.\u001b[39mcancel_join_thread()\n",
      "File \u001b[0;32m/usr/lib/python3.12/multiprocessing/process.py:149\u001b[0m, in \u001b[0;36mBaseProcess.join\u001b[0;34m(self, timeout)\u001b[0m\n\u001b[1;32m    147\u001b[0m \u001b[38;5;28;01massert\u001b[39;00m \u001b[38;5;28mself\u001b[39m\u001b[38;5;241m.\u001b[39m_parent_pid \u001b[38;5;241m==\u001b[39m os\u001b[38;5;241m.\u001b[39mgetpid(), \u001b[38;5;124m'\u001b[39m\u001b[38;5;124mcan only join a child process\u001b[39m\u001b[38;5;124m'\u001b[39m\n\u001b[1;32m    148\u001b[0m \u001b[38;5;28;01massert\u001b[39;00m \u001b[38;5;28mself\u001b[39m\u001b[38;5;241m.\u001b[39m_popen \u001b[38;5;129;01mis\u001b[39;00m \u001b[38;5;129;01mnot\u001b[39;00m \u001b[38;5;28;01mNone\u001b[39;00m, \u001b[38;5;124m'\u001b[39m\u001b[38;5;124mcan only join a started process\u001b[39m\u001b[38;5;124m'\u001b[39m\n\u001b[0;32m--> 149\u001b[0m res \u001b[38;5;241m=\u001b[39m \u001b[38;5;28;43mself\u001b[39;49m\u001b[38;5;241;43m.\u001b[39;49m\u001b[43m_popen\u001b[49m\u001b[38;5;241;43m.\u001b[39;49m\u001b[43mwait\u001b[49m\u001b[43m(\u001b[49m\u001b[43mtimeout\u001b[49m\u001b[43m)\u001b[49m\n\u001b[1;32m    150\u001b[0m \u001b[38;5;28;01mif\u001b[39;00m res \u001b[38;5;129;01mis\u001b[39;00m \u001b[38;5;129;01mnot\u001b[39;00m \u001b[38;5;28;01mNone\u001b[39;00m:\n\u001b[1;32m    151\u001b[0m     _children\u001b[38;5;241m.\u001b[39mdiscard(\u001b[38;5;28mself\u001b[39m)\n",
      "File \u001b[0;32m/usr/lib/python3.12/multiprocessing/popen_fork.py:40\u001b[0m, in \u001b[0;36mPopen.wait\u001b[0;34m(self, timeout)\u001b[0m\n\u001b[1;32m     38\u001b[0m \u001b[38;5;28;01mif\u001b[39;00m timeout \u001b[38;5;129;01mis\u001b[39;00m \u001b[38;5;129;01mnot\u001b[39;00m \u001b[38;5;28;01mNone\u001b[39;00m:\n\u001b[1;32m     39\u001b[0m     \u001b[38;5;28;01mfrom\u001b[39;00m \u001b[38;5;21;01mmultiprocessing\u001b[39;00m\u001b[38;5;21;01m.\u001b[39;00m\u001b[38;5;21;01mconnection\u001b[39;00m \u001b[38;5;28;01mimport\u001b[39;00m wait\n\u001b[0;32m---> 40\u001b[0m     \u001b[38;5;28;01mif\u001b[39;00m \u001b[38;5;129;01mnot\u001b[39;00m \u001b[43mwait\u001b[49m\u001b[43m(\u001b[49m\u001b[43m[\u001b[49m\u001b[38;5;28;43mself\u001b[39;49m\u001b[38;5;241;43m.\u001b[39;49m\u001b[43msentinel\u001b[49m\u001b[43m]\u001b[49m\u001b[43m,\u001b[49m\u001b[43m \u001b[49m\u001b[43mtimeout\u001b[49m\u001b[43m)\u001b[49m:\n\u001b[1;32m     41\u001b[0m         \u001b[38;5;28;01mreturn\u001b[39;00m \u001b[38;5;28;01mNone\u001b[39;00m\n\u001b[1;32m     42\u001b[0m \u001b[38;5;66;03m# This shouldn't block if wait() returned successfully.\u001b[39;00m\n",
      "File \u001b[0;32m/usr/lib/python3.12/multiprocessing/connection.py:1136\u001b[0m, in \u001b[0;36mwait\u001b[0;34m(object_list, timeout)\u001b[0m\n\u001b[1;32m   1133\u001b[0m     deadline \u001b[38;5;241m=\u001b[39m time\u001b[38;5;241m.\u001b[39mmonotonic() \u001b[38;5;241m+\u001b[39m timeout\n\u001b[1;32m   1135\u001b[0m \u001b[38;5;28;01mwhile\u001b[39;00m \u001b[38;5;28;01mTrue\u001b[39;00m:\n\u001b[0;32m-> 1136\u001b[0m     ready \u001b[38;5;241m=\u001b[39m \u001b[43mselector\u001b[49m\u001b[38;5;241;43m.\u001b[39;49m\u001b[43mselect\u001b[49m\u001b[43m(\u001b[49m\u001b[43mtimeout\u001b[49m\u001b[43m)\u001b[49m\n\u001b[1;32m   1137\u001b[0m     \u001b[38;5;28;01mif\u001b[39;00m ready:\n\u001b[1;32m   1138\u001b[0m         \u001b[38;5;28;01mreturn\u001b[39;00m [key\u001b[38;5;241m.\u001b[39mfileobj \u001b[38;5;28;01mfor\u001b[39;00m (key, events) \u001b[38;5;129;01min\u001b[39;00m ready]\n",
      "File \u001b[0;32m/usr/lib/python3.12/selectors.py:415\u001b[0m, in \u001b[0;36m_PollLikeSelector.select\u001b[0;34m(self, timeout)\u001b[0m\n\u001b[1;32m    413\u001b[0m ready \u001b[38;5;241m=\u001b[39m []\n\u001b[1;32m    414\u001b[0m \u001b[38;5;28;01mtry\u001b[39;00m:\n\u001b[0;32m--> 415\u001b[0m     fd_event_list \u001b[38;5;241m=\u001b[39m \u001b[38;5;28;43mself\u001b[39;49m\u001b[38;5;241;43m.\u001b[39;49m\u001b[43m_selector\u001b[49m\u001b[38;5;241;43m.\u001b[39;49m\u001b[43mpoll\u001b[49m\u001b[43m(\u001b[49m\u001b[43mtimeout\u001b[49m\u001b[43m)\u001b[49m\n\u001b[1;32m    416\u001b[0m \u001b[38;5;28;01mexcept\u001b[39;00m \u001b[38;5;167;01mInterruptedError\u001b[39;00m:\n\u001b[1;32m    417\u001b[0m     \u001b[38;5;28;01mreturn\u001b[39;00m ready\n",
      "\u001b[0;31mKeyboardInterrupt\u001b[0m: "
     ]
    }
   ],
   "source": [
    "if(STAGE_1):\n",
    "    department_frame = apply_relik_to_df(department_frame)\n",
    "    print(department_frame.iloc[0]['RELIK'])  # Print first result for verification\n",
    "    department_frame.to_pickle(\"./relikApplied.pkl\") \n"
   ]
  },
  {
   "cell_type": "code",
   "execution_count": 34,
   "id": "f833e588",
   "metadata": {},
   "outputs": [
    {
     "data": {
      "application/vnd.jupyter.widget-view+json": {
       "model_id": "7cbd92d8b3f644358deb3b412b2f6f77",
       "version_major": 2,
       "version_minor": 0
      },
      "text/plain": [
       "tokenizer.json:   0%|          | 0.00/711k [00:00<?, ?B/s]"
      ]
     },
     "metadata": {},
     "output_type": "display_data"
    },
    {
     "data": {
      "application/vnd.jupyter.widget-view+json": {
       "model_id": "4b1cb033d919449192c38f839410f61e",
       "version_major": 2,
       "version_minor": 0
      },
      "text/plain": [
       "special_tokens_map.json:   0%|          | 0.00/695 [00:00<?, ?B/s]"
      ]
     },
     "metadata": {},
     "output_type": "display_data"
    },
    {
     "data": {
      "application/vnd.jupyter.widget-view+json": {
       "model_id": "c0b2d310786948f6be9758ce5dfaf7ed",
       "version_major": 2,
       "version_minor": 0
      },
      "text/plain": [
       "tokenizer_config.json:   0%|          | 0.00/1.19k [00:00<?, ?B/s]"
      ]
     },
     "metadata": {},
     "output_type": "display_data"
    },
    {
     "data": {
      "application/vnd.jupyter.widget-view+json": {
       "model_id": "f68e85dae1824ef89059dde5c37698e8",
       "version_major": 2,
       "version_minor": 0
      },
      "text/plain": [
       "vocab.txt:   0%|          | 0.00/232k [00:00<?, ?B/s]"
      ]
     },
     "metadata": {},
     "output_type": "display_data"
    },
    {
     "data": {
      "application/vnd.jupyter.widget-view+json": {
       "model_id": "05f7c76d9a3b4b2eb3f4cae362d2b344",
       "version_major": 2,
       "version_minor": 0
      },
      "text/plain": [
       "tokenizer.json:   0%|          | 0.00/711k [00:00<?, ?B/s]"
      ]
     },
     "metadata": {},
     "output_type": "display_data"
    },
    {
     "data": {
      "application/vnd.jupyter.widget-view+json": {
       "model_id": "962a7c121cb34e40a56f7f3076c66ea1",
       "version_major": 2,
       "version_minor": 0
      },
      "text/plain": [
       "special_tokens_map.json:   0%|          | 0.00/695 [00:00<?, ?B/s]"
      ]
     },
     "metadata": {},
     "output_type": "display_data"
    },
    {
     "name": "stdout",
     "output_type": "stream",
     "text": [
      "\u001b[36m[2024-11-23 12:33:26,567] [DEBUG] [relik.reader.data.relik_reader_re_data.__iter__:399] [PID:1219296] [RANK:0] Dataset finished: 18402 number of elements processed\u001b[39m\n"
     ]
    }
   ],
   "source": [
    "xr = department_frame['GL'].tolist()\n",
    "xr = [item[0] for item in xr]\n",
    "department_frame['RELIK'] = relik(xr)\n",
    "\n",
    "department_frame.to_pickle(\"./relikApplied2.pkl\") \n"
   ]
  },
  {
   "cell_type": "code",
   "execution_count": 35,
   "id": "79d0770a",
   "metadata": {},
   "outputs": [
    {
     "data": {
      "text/html": [
       "<div>\n",
       "<style scoped>\n",
       "    .dataframe tbody tr th:only-of-type {\n",
       "        vertical-align: middle;\n",
       "    }\n",
       "\n",
       "    .dataframe tbody tr th {\n",
       "        vertical-align: top;\n",
       "    }\n",
       "\n",
       "    .dataframe thead th {\n",
       "        text-align: right;\n",
       "    }\n",
       "</style>\n",
       "<table border=\"1\" class=\"dataframe\">\n",
       "  <thead>\n",
       "    <tr style=\"text-align: right;\">\n",
       "      <th></th>\n",
       "      <th>index</th>\n",
       "      <th>name</th>\n",
       "      <th>lat</th>\n",
       "      <th>long</th>\n",
       "      <th>GL</th>\n",
       "      <th>GL_t</th>\n",
       "      <th>RELIK</th>\n",
       "    </tr>\n",
       "  </thead>\n",
       "  <tbody>\n",
       "    <tr>\n",
       "      <th>0</th>\n",
       "      <td>1</td>\n",
       "      <td>Génomique Métabolique, Genoscope, Institut Fra...</td>\n",
       "      <td>0.0</td>\n",
       "      <td>0.0</td>\n",
       "      <td>[Génomique Métabolique, Genoscope, Institut Fr...</td>\n",
       "      <td>O</td>\n",
       "      <td>RelikOutput(text='Génomique Métabolique', toke...</td>\n",
       "    </tr>\n",
       "    <tr>\n",
       "      <th>1</th>\n",
       "      <td>2</td>\n",
       "      <td>Sorbonne Université, CNRS, Integrative Biology...</td>\n",
       "      <td>0.0</td>\n",
       "      <td>0.0</td>\n",
       "      <td>[Sorbonne Université]</td>\n",
       "      <td>S</td>\n",
       "      <td>RelikOutput(text='Sorbonne Université', tokens...</td>\n",
       "    </tr>\n",
       "    <tr>\n",
       "      <th>2</th>\n",
       "      <td>3</td>\n",
       "      <td>Genoscope, Institut François Jacob, CEA, CNRS,...</td>\n",
       "      <td>0.0</td>\n",
       "      <td>0.0</td>\n",
       "      <td>[Université Paris-Saclay]</td>\n",
       "      <td>S</td>\n",
       "      <td>RelikOutput(text='Université Paris-Saclay', to...</td>\n",
       "    </tr>\n",
       "    <tr>\n",
       "      <th>3</th>\n",
       "      <td>4</td>\n",
       "      <td>Sorbonne Université, CNRS, Algal Genetics Grou...</td>\n",
       "      <td>0.0</td>\n",
       "      <td>0.0</td>\n",
       "      <td>[Sorbonne Université]</td>\n",
       "      <td>S</td>\n",
       "      <td>RelikOutput(text='Sorbonne Université', tokens...</td>\n",
       "    </tr>\n",
       "    <tr>\n",
       "      <th>4</th>\n",
       "      <td>5</td>\n",
       "      <td>Sorbonne Université, CNRS, Algal Genetics Grou...</td>\n",
       "      <td>0.0</td>\n",
       "      <td>0.0</td>\n",
       "      <td>[Sorbonne Université]</td>\n",
       "      <td>S</td>\n",
       "      <td>RelikOutput(text='Sorbonne Université', tokens...</td>\n",
       "    </tr>\n",
       "  </tbody>\n",
       "</table>\n",
       "</div>"
      ],
      "text/plain": [
       "   index                                               name  lat  long  \\\n",
       "0      1  Génomique Métabolique, Genoscope, Institut Fra...  0.0   0.0   \n",
       "1      2  Sorbonne Université, CNRS, Integrative Biology...  0.0   0.0   \n",
       "2      3  Genoscope, Institut François Jacob, CEA, CNRS,...  0.0   0.0   \n",
       "3      4  Sorbonne Université, CNRS, Algal Genetics Grou...  0.0   0.0   \n",
       "4      5  Sorbonne Université, CNRS, Algal Genetics Grou...  0.0   0.0   \n",
       "\n",
       "                                                  GL GL_t  \\\n",
       "0  [Génomique Métabolique, Genoscope, Institut Fr...    O   \n",
       "1                              [Sorbonne Université]    S   \n",
       "2                          [Université Paris-Saclay]    S   \n",
       "3                              [Sorbonne Université]    S   \n",
       "4                              [Sorbonne Université]    S   \n",
       "\n",
       "                                               RELIK  \n",
       "0  RelikOutput(text='Génomique Métabolique', toke...  \n",
       "1  RelikOutput(text='Sorbonne Université', tokens...  \n",
       "2  RelikOutput(text='Université Paris-Saclay', to...  \n",
       "3  RelikOutput(text='Sorbonne Université', tokens...  \n",
       "4  RelikOutput(text='Sorbonne Université', tokens...  "
      ]
     },
     "execution_count": 35,
     "metadata": {},
     "output_type": "execute_result"
    }
   ],
   "source": [
    "department_frame.head()\n"
   ]
  },
  {
   "cell_type": "code",
   "execution_count": 36,
   "id": "093c734c",
   "metadata": {},
   "outputs": [
    {
     "data": {
      "text/plain": [
       "RelikOutput(text='Université Paris-Saclay', tokens=Université Paris-Saclay, id=2, spans=[Span(start=0, end=23, label='Paris-Saclay', text='Université Paris-Saclay')], triplets=[], candidates=Candidates(span=[[[{\"text\": \"Paris-Saclay University\", \"id\": 2447329, \"metadata\": {\"wikidata\": \"Q109409389\", \"definition\": \"Paris-Saclay University (Universit\\u00e9 Paris-Saclay) is a combined technological research institute and public research university in Paris, France. Paris-Saclay was established in 2019 after the merger of four technical grandes \\u00e9coles, as well as several technological institutes, engineering schools, and research facilities; giving it fifteen constituent colleges with over 48,000 students combined. With the merger, the French government has explicitly voiced their wish to rival\"}}, {\"text\": \"Paris-Saclay Faculty of Sciences\", \"id\": 1316417, \"metadata\": {\"wikidata\": \"Q98112081\", \"definition\": \"The Paris-Saclay Faculty of Sciences or Orsay Faculty of Sciences, in French : Facult\\u00e9 des sciences d'Orsay, is the mathematics and physics school within Paris-Saclay University, founded in 1956. It offers undergraduate and graduate degrees in mathematics, physics and chemistry (though its undergraduates are officially enrolled in Paris-Saclay Undergraduate School). Previously the Paris-Sud Faculty of Sciences, the School assumed its current structure in 2019.\"}}, {\"text\": \"Paris-Saclay\", \"id\": 2493660, \"metadata\": {\"wikidata\": \"Q251665\", \"definition\": \"Paris-Saclay is a research-intensive and business cluster currently under construction in the south of Paris, France. It encompasses research facilities, two French major universities with higher education institutions (grandes \\u00e9coles) and also research centers of private companies. In 2013, the Technology Review put Paris-Saclay in the top 8 world research clusters. In 2014, it comprised almost 15% of French scientific research capacity. The earliest\"}}, {\"text\": \"\\u00c9cole polytechnique universitaire de Paris-Saclay\", \"id\": 957901, \"metadata\": {\"wikidata\": \"Q3578308\", \"definition\": \"\\u00c9cole polytechnique universitaire de Paris-Saclay (Polytech Paris-Saclay) a French engineering College created in 2004. The school trains engineers in four sectors : electronics, computing, materials and optronics. Located in Orsay, Polytech Paris-Saclay is a public higher education institution. The school is a member of the Paris-Saclay University.\"}}, {\"text\": \"\\u00c9cole normale sup\\u00e9rieure Paris-Saclay\", \"id\": 1859155, \"metadata\": {\"wikidata\": \"Q273604\", \"definition\": \"The fr \\u00c9cole normale sup\\u00e9rieure Paris-Saclay no (also ENS Paris-Saclay or fr Normale Sup' no Paris-Saclay), formerly ENS Cachan, is a grande \\u00e9cole and a constituent member of Paris-Saclay University. It was established in 1892. It is located in Gif-sur-Yvette within the Essonne department near Paris, \\u00cele-de-France, France. ENS Paris-Saclay is one of the most prestigious and selective French grandes \\u00e9coles. Like all other\"}}, {\"text\": \"Universit\\u00e9 La Sagesse\", \"id\": 2632563, \"metadata\": {\"wikidata\": \"Q2804577\", \"definition\": \"The Universit\\u00e9 La Sagesse (\\u062c\\u0627\\u0645\\u0639\\u0629 \\u0627\\u0644\\u062d\\u0643\\u0645\\u0629), also known by the acronym ULS, is an established academic institute in Furn-El-Chebak, Lebanon. The university was established according to decree 1947 in 1999. But the university's Higher College of Law goes back to 1875. The university is associated with Coll\\u00e8ge de la Sagesse, a Lebanese educational institution founded in 1875 that ran a Higher Institute of Law\"}}, {\"text\": \"Institute of Theoretical Physics, Saclay\", \"id\": 80418, \"metadata\": {\"wikidata\": \"Q19945099\", \"definition\": \"The Institute of Theoretical Physics (\\\"Institut de physique th\\u00e9orique\\\") (IPhT) is a research institute of the Direction of Fundamental Research (DRF) of the French Alternative Energies and Atomic Energy Commission (CEA). The Institute is also a joint research unit of the Institute of Physics (INP), a subsidiary of the French National Center for Scientific Research (CNRS). It is associated to the Paris-Saclay University. IPhT\"}}, {\"text\": \"Universitet Yugra Surgut\", \"id\": 6199259, \"metadata\": {\"wikidata\": \"Q3358337\", \"definition\": \"Universitet Yugra, also called Universitet Yugra Surgut is a Russian professional basketball team. The team competes in the Russian Super League. Honours Russian Basketball Super League 1 Winners (2): 2003-04, 2016\\u201317 Roster Universitet Yugra Surgut #008000 White White #008000 6 Russia Ruslan Khayretdinov F 1.94 82 1987 7 27 7 Russia Andrei Komarovski F 1.95 95 1985 2 23 9 Russia Sergei Krasnikov basketball\"}}, {\"text\": \"L'Universit\\u00e9 du Faso\", \"id\": 903744, \"metadata\": {\"wikidata\": \"Q60750442\", \"definition\": \"L\\u2019Universit\\u00e9 du Faso is a private, for-profit university in Ziniar\\u00e9, 50 km from Ouagadougou, the capital of Burkina Faso. It also has a campus in Ouagadougou. History The university was established in 2015, at a time when Burkina Faso's public universities were experiencing financial crises and student protests. Its youth as an institution means that building works, degree completions, and faculty recruitment are still\"}}, {\"text\": \"Paris-Panth\\u00e9on-Assas University\", \"id\": 1797077, \"metadata\": {\"wikidata\": \"Q662976\", \"definition\": \"Paris-Panth\\u00e9on-Assas University (no Universit\\u00e9 Paris-Panth\\u00e9on-Assas, ), commonly known as Panth\\u00e9on-Assas or Paris 2 (no Paris II ), is a university in Paris, often described as the top law school of France. It is considered the direct inheritor of the Faculty of Law of Paris (\\\"the Sorbonne\\\"), the second-oldest faculty of Law in the world, founded in the 12th century. Following the 1970 split of\"}}, {\"text\": \"Universit\\u00e9 Alassane Ouattara\", \"id\": 3591474, \"metadata\": {\"wikidata\": \"Q3551369\", \"definition\": \"The Universit\\u00e9 Alassane Ouattara is a public university in C\\u00f4te d'Ivoire. It was known as Universit\\u00e9 de Bouak\\u00e9 prior to a name change in August 2012. The school was founded in 1992. It was temporarily relocated to Abidjan in 2002, but reopened in Bouak\\u00e9 in 2011. Its units include: Communication, Environment and Society Administrative, Managerial and Legal Sciences Economic and Developmental Sciences Medical Sciences\"}}, {\"text\": \"Universit\\u00e9 Nice-Sophia-Antipolis\", \"id\": 5392427, \"metadata\": {\"wikidata\": \"Q1198571\", \"definition\": \"The University of Nice Sophia Antipolis (Universit\\u00e9 Nice Sophia Antipolis) was a university located in Nice, France and neighboring areas. It was founded in 1965 and was organized in eight faculties, two autonomous institutes and an engineering school. It was merged in 2019 into the C\\u00f4te d'Azur University. It also hosts the first WWW Interactive Multipurpose Server. It is a member of the ,\"}}, {\"text\": \"Petre Andrei University of Ia\\u0219i\", \"id\": 5864737, \"metadata\": {\"wikidata\": \"Q3551478\", \"definition\": \"The Petre Andrei University of Ia\\u0219i is a private university in Ia\\u0219i, Romania, founded in 1990. It was named in honor of the Romanian philosopher Petre Andrei. In September 2013, Petre Andrei University absorbed Gheorghe Zane University. Structure Faculties Faculty of Law Faculty of Economics Faculty of Psychology and Educational Sciences Faculty of Social Work and Sociology Faculty of Political and Administrative Sciences\"}}, {\"text\": \"Universit\\u00e9 Savoie Mont Blanc\", \"id\": 6103890, \"metadata\": {\"wikidata\": \"Q2496158\", \"definition\": \"Universit\\u00e9 Savoie Mont Blanc (University Savoie Mont Blanc, a.k.a. USMB) is a public university in the Haute-Savoie and Savoie departments of France, with one campus in Annecy, Haute-Savoie and two near Chamb\\u00e9ry, Savoie. Campuses The university was officially founded in 1979 from several colleges founded in the 1960s and 1970s. To avoid a straight choice between the two biggest towns of the Savoie/Haute-Savoie departments,\"}}, {\"text\": \"Lucian Blaga University of Sibiu\", \"id\": 1790509, \"metadata\": {\"wikidata\": \"Q1619447\", \"definition\": \"The Lucian Blaga University of Sibiu (Romanian: Universitatea \\u201eLucian Blaga\\\" din Sibiu) is a public university in Sibiu, Romania. It is named after the philosopher, poet, and playwright, Lucian Blaga. It was founded in 1990 with five schools: Letters, History and Law, Medicine, Food and Textile Processing Technology, Engineering and Sciences. Faculties Faculty of Agricultural Sciences, Food Industry and Environmental Protection Faculty of Economics\"}}, {\"text\": \"Universit\\u00e9 Sainte-Anne\", \"id\": 2367351, \"metadata\": {\"wikidata\": \"Q3058135\", \"definition\": \"Universit\\u00e9 Sainte-Anne is a French-language university in Pointe-de-l'\\u00c9glise, Nova Scotia, Canada. It and the Universit\\u00e9 de Moncton in New Brunswick are the only French-language universities in the Maritime Provinces. History It was founded on September 1, 1890 by Gustave Blanche, a Eudist Father, to facilitate the higher education of Acadians in Nova Scotia. The University was named after Saint Anne, the mother of the\"}}, {\"text\": \"University of Castilla\\u2013La Mancha\", \"id\": 5151141, \"metadata\": {\"wikidata\": \"Q941806\", \"definition\": \"The University of Castilla\\u2013La Mancha (Universidad de Castilla-La Mancha; UCLM no) is a public Spanish university. It offers courses in the cities of Albacete, Ciudad Real, Cuenca, Toledo, Almad\\u00e9n and Talavera de la Reina. This university was recognised by law on 30 June 1982, and began to operate three years later. Overview The current University of Castilla\\u2013La Mancha is not the key educational institution\"}}, {\"text\": \"University of Reims Champagne-Ardenne\", \"id\": 5219044, \"metadata\": {\"wikidata\": \"Q2496149\", \"definition\": \"The University of Reims Champagne-Ardenne (Universit\\u00e9 de Reims Champagne-Ardenne; URCA), also known simply as the University of Reims, is a public university based in Reims, France. In addition to the main campus in Reims, the university has several campuses located throughout the Grand Est region, in Ch\\u00e2lons-en-Champagne, Charleville-M\\u00e9zi\\u00e8res, Chaumont, and Troyes. History Original university The University of Reims was established in 1548, after the\"}}, {\"text\": \"Universit\\u00e9 Sorbonne Nouvelle\", \"id\": 6136246, \"metadata\": {\"wikidata\": \"Q571293\", \"definition\": \"The Sorbonne Nouvelle University (Universit\\u00e9 Sorbonne Nouvelle, also known as Universit\\u00e9 Sorbonne Nouvelle \\u2013 Paris 3, Paris 3, Sorbonne Nouvelle and the Sorbonne) is a public liberal arts and humanities university in Paris, France. It is one of the inheritors of the historic University of Paris, which was completely overhauled and restructured in 1970. History The historic University of Paris first appeared in the\"}}, {\"text\": \"\\u0130bn Haldun \\u00dcniversitesi\", \"id\": 1538521, \"metadata\": {\"wikidata\": \"Q25477770\", \"definition\": \"Ibn Haldun University, IHU (\\u0130bn Haldun \\u00dcniversitesi), is a private foundation university located in the Ba\\u015fak\\u015fehir neighbourhood of Istanbul. The university has a strong focus on the humanities and social sciences, and espouses a multilingual approach to education, namely in Turkish, English and Arabic. History IHU was established by the T\\u00dcRGEV Foundation (Turkey Youth and Education Services Foundation), set up by Recep Tayyip Erdogan\"}}, {\"text\": \"Marmara \\u00dcniversitesi Spor\", \"id\": 4355889, \"metadata\": {\"wikidata\": \"Q17000884\", \"definition\": \"Marmara \\u00dcniveritesi Spor Women's Football (Marmara \\u00dcniveritesi Spor Bayan Futbol Tak\\u0131m\\u0131) is a women's football team based in Istanbul playing in the Turkish Women's First Football League. It was established in 2003 as part of the multi-sport Marmara \\u00dcniversitesi Sports Club (Marmara \\u00dcniversitesi Spor Kul\\u00fcb\\u00fc Derne\\u011fi) at the Physical Education and Sports College of Marmara University. History Marmara \\u00dcniversitesi Spor advanced to the Women's\"}}, {\"text\": \"Universit\\u00e9 F\\u00e9lix Houphou\\u00ebt-Boigny\", \"id\": 4690186, \"metadata\": {\"wikidata\": \"Q1583390\", \"definition\": \"Universit\\u00e9 F\\u00e9lix Houphou\\u00ebt-Boigny (UFHB) (formerly known as University of Cocody-Abidjan, fr.: Universit\\u00e9 de Cocody or Universit\\u00e9 de Cocody-Abidjan) is an institution of higher education located in the Cocody section of Abidjan and the largest in C\\u00f4te d'Ivoire. With over 50,000 students, the UFHB has 13 faculties and several research centers providing diplomas from two-year undergraduate to professional academic, medical, legal, and specialist degrees. From\"}}, {\"text\": \"Paris-Saclay Medical School\", \"id\": 1316234, \"metadata\": {\"wikidata\": \"Q90272039\", \"definition\": \"Paris-Saclay Medical School, also Facult\\u00e9 de m\\u00e9decine Paris-Saclay in French, is the graduate medical school of Paris-Saclay University and is located in the Bic\\u00eatre Medical Area of Le Kremlin-Bic\\u00eatre, Val-de-Marne, France and founded in 1968. It is the medical school of the first university in France according to its dean. History Created by decree in 1968, the Paris-Saclay Faculty of Medicine saw its walls\"}}, {\"text\": \"Universit\\u00e9 libre de Bruxelles\", \"id\": 2351070, \"metadata\": {\"wikidata\": \"Q574606\", \"definition\": \"The fr Universit\\u00e9 libre de Bruxelles no (; Free University of Brussels; abbreviated ULB) is a French-speaking research university in Brussels, Belgium. ULB is one of the two institutions tracing their origins to the Free University of Brussels, founded in 1834 by the lawyer and liberal politician Pierre-Th\\u00e9odore Verhaegen. The split occurred along linguistic lines, forming the French-speaking ULB in 1969, and Dutch-speaking nl\"}}, {\"text\": \"University of Abou Bekr Belkaid\", \"id\": 2489960, \"metadata\": {\"wikidata\": \"Q3551363\", \"definition\": \"The Abou Bekr Belkaid University (\\u062c\\u0627\\u0645\\u0639\\u0629 \\u0623\\u0628\\u0648 \\u0628\\u0643\\u0631 \\u0628\\u0644\\u0642\\u0627\\u064a\\u062f) is a university located in Tlemcen, Algeria.It was created by a 1989 decree and has eight schools and several campuses all located in the state of Tlemcen. It is ranked by the Times Higher Education between 121 and 140 in the 2022 regional ranking of Arab universities, and 1501+ in the world ranking of universities.that\"}}, {\"text\": \"University of Pristina (1969\\u20131999)\", \"id\": 3039939, \"metadata\": {\"wikidata\": \"Q1630703\", \"definition\": \"The University of Pristina was founded in the Socialist Autonomous Province of Kosovo, Socialist Republic of Serbia, Yugoslavia, in the city of Pristina, for the academic year 1969\\u20131970 and functioned until 1999. However, owing to political upheaval, war, successive mutual expulsions of faculty of one ethnicity or the other, and resultant pervasive ethnic-based polarisation, there came to be two disjoint institutions using the same\"}}, {\"text\": \"Constantin Br\\u00e2ncu\\u0219i University of T\\u00e2rgu Jiu\", \"id\": 4674519, \"metadata\": {\"wikidata\": \"Q3551393\", \"definition\": \"Constantin Br\\u00e2ncu\\u0219i University of T\\u00e2rgu Jiu (Romanian: Universitatea \\u201eConstantin Br\\u00e2ncu\\u0219i\\u201d din T\\u00e2rgu Jiu) is an accredited higher education institution of public interest, with legal personality and non-profit character, established in accordance with the legal provisions, according to the Romanian Government Decision no. 288 / 01.06.1992, and operates on the basis of the principles of university autonomy and academic freedom, under the coordination of the\"}}, {\"text\": \"Universit\\u00e9 populaire de Caen\", \"id\": 5760108, \"metadata\": {\"wikidata\": \"Q1784865\", \"definition\": \"The Universit\\u00e9 populaire de Caen (Popular University or People's University of Caen) is a free university created in October 2002 by Michel Onfray in the north-western French city of Caen. It functions on a guiding principle of exemption from fees. Access to the Popular University does not require any academic qualifications, and is open to all. It does not have any examinations nor does\"}}, {\"text\": \"\\u0218tefan cel Mare University of Suceava\", \"id\": 5864774, \"metadata\": {\"wikidata\": \"Q653439\", \"definition\": \"The \\u0218tefan cel Mare University of Suceava (Universitatea \\u201e\\u0218tefan cel Mare\\u201d din Suceava, USV), also known as University of Suceava (Universitatea din Suceava), is a public university in Suceava, Suceava County, Bukovina, northeastern Romania, officially founded in 1990 and initially established in 1963 as the Institute of Pedagogy (Institutul Pedagogic). It was named in honour of the Moldavian monarch (Domn) Stephen the Great (\\u0218tefan\"}}, {\"text\": \"D'Annunzio University of Chieti\\u2013Pescara\", \"id\": 5924168, \"metadata\": {\"wikidata\": \"Q2261128\", \"definition\": \"D'Annunzio University (Universit\\u00e0 degli Studi \\\"Gabriele d'Annunzio\\\", Ud'A) is a public research university located in Chieti and Pescara, neighbouring cities in the region of Abruzzo, Italy. Established in 1960 as a higher education institute and named after writer and poet Gabriele D'Annunzio, it was officially recognised as an independent university in 1965 by Minister Luigi Gui. The university is formed from a variety of\"}}, {\"text\": \"Universit\\u00e9 P\\u00e9dagogique Nationale\", \"id\": 760575, \"metadata\": {\"wikidata\": \"Q3551480\", \"definition\": \"The Universit\\u00e9 P\\u00e9dagogique Nationale (meaning \\\"National Pedagogical University\\\"), formerly named the Institut P\\u00e9dagogique National, colloquially referred to by its acronym UPN, is a public institution of higher education dedicated to training teachers, enhancing their skills, and promoting studies and research in applied pedagogy. Located in the Ngaliema commune of Kinshasa, Democratic Republic of the Congo (DRC), the university is led by Professor Masanga Maponda\"}}, {\"text\": \"\\u00c9cole Yabn\\u00e9 (Paris)\", \"id\": 1283648, \"metadata\": {\"wikidata\": \"Q16684229\", \"definition\": \"The \\u00c9cole Yabn\\u00e9 is a Jewish school located in Paris. Founded in 1948\\u2014by Chief Rabbi Jacob Kaplan, with the help of Rabbi \\u00c9lie Munk and Chief Rabbi Henri Schilli\\u2014it continues to this day. History In 1948, Chief Rabbi Jacob Kaplan, with the help of Suzanne Aron, created a Jewish lyc\\u00e9e that he named \\u00c9cole Yabn\\u00e9, in memory of the Yeshiva founded in Yavne by\"}}, {\"text\": \"Miguel Hern\\u00e1ndez University of Elche\", \"id\": 1800057, \"metadata\": {\"wikidata\": \"Q24676\", \"definition\": \"The Miguel Hern\\u00e1ndez University (UMH, Universidad Miguel Hern\\u00e1ndez, Universitat Miguel Hern\\u00e1ndez, Universitas Miguel Hern\\u00e1ndez illicitana IPA), is a Spanish Public University offering education, research and services facilitating the comprehensive development of its students. It is located in the province of Alicante and was established in 1996. Its name commemorates the Spanish poet Miguel Hern\\u00e1ndez. The UMH offers bachelor's degrees, Master's and PhD programs adapted\"}}, {\"text\": \"Universit\\u00e9 T\\u00c9LUQ\", \"id\": 2092897, \"metadata\": {\"wikidata\": \"Q288006\", \"definition\": \"Universit\\u00e9 T\\u00c9LUQ is a public French-language distance learning university, part of the Universit\\u00e9 du Qu\\u00e9bec system. Originally founded in 1972 as the Tel\\u00e9-universit\\u00e9, Universit\\u00e9 du Qu\\u00e9bec commission to develop distance education courses, Universit\\u00e9 T\\u00c9LUQ is now a full university which offers programs in undergraduate and graduate studies. It is the only French-language university education institution in North America to offer all of its courses\"}}, {\"text\": \"Aurel Vlaicu University of Arad\", \"id\": 3093886, \"metadata\": {\"wikidata\": \"Q4822213\", \"definition\": \"Aurel Vlaicu University of Arad is a public university founded in 1990 in Arad, Romania. It was named in honor of the Romanian engineer and aviation pioneer Aurel Vlaicu. Overview Started in 1972, as the Arad Institute of Sub-Engineers, the institution was accredited on 18 May 1990 to grant university degrees. Over the years, Aurel Vlaicu University has developed new specializations, with new faculties,\"}}, {\"text\": \"Universit\\u00e9 de Thi\\u00e8s\", \"id\": 3213648, \"metadata\": {\"wikidata\": \"Q3551680\", \"definition\": \"Universit\\u00e9 de Thi\\u00e8s (UT - University of Thi\\u00e8s) is located in Thi\\u00e8s, Senegal. It was founded in 2007.\"}}, {\"text\": \"University of Mediterranean Karpasia\", \"id\": 3372964, \"metadata\": {\"wikidata\": \"Q890428\", \"definition\": \"University of Mediterranean Karpasia (UMK; in Akdeniz Karpaz \\u00dcniversitesi) is a private university founded in North Nicosia, Northern Cyprus in 2012. The medium of instruction at University of Mediterranean Karpasia is English in most departments. University of Mediterranean Karpasia has 4 Faculties and 1 School offering courses at undergraduate and postgraduate levels. An English Preparatory School is available for those who need to improve\"}}, {\"text\": \"Universite des Sciences Appliqu\\u00e9e et Management\", \"id\": 3630219, \"metadata\": {\"wikidata\": \"Q19600073\", \"definition\": \"Universit\\u00e9 des Sciences Appliqu\\u00e9es et Management (USAM) is a university located in Porto-Novo, Ou\\u00e9m\\u00e9, Benin, Founded in 2003. List of Faculties Faculty of Legal, Administrative and Political Faculty of Economics Faculty of Management Sciences Faculty of Health Sciences Faculty of Arts and Social Sciences Faculty of Agricultural Sciences Faculty of Applied Sciences\"}}, {\"text\": \"Universit\\u00e9 catholique de Lille\", \"id\": 4644974, \"metadata\": {\"wikidata\": \"Q1477551\", \"definition\": \"The Universit\\u00e9 Catholique de Lille (commonly known as \\\"La catho\\\"), officially the F\\u00e9d\\u00e9ration universitaire et pluridisciplinaire de Lille (according to its statutes), is a federation of higher education establishments, of Catholic inspiration2 , created in 1973. Its history dates back to 1875. It is associated with the Hauts-de-France Polytechnic University, research centres and a hospital group. Together, these institutions will have more than 36,700\"}}, {\"text\": \"Petru Maior University of T\\u00e2rgu Mure\\u0219\", \"id\": 4646784, \"metadata\": {\"wikidata\": \"Q1532212\", \"definition\": \"The Petru Maior University (Universitatea Petru Maior) of T\\u00e2rgu Mure\\u0219, Romania, was a university founded in 1960. In September 2018, Petru Maior University was incorporated into the University of Medicine and Pharmacy of T\\u00e2rgu Mure\\u0219. History Founded in 1960 as The Pedagogical Institute of T\\u00eergu Mure\\u015f, Petru Maior University became The Technical University of T\\u00eergu Mure\\u015f in 1991, The University of T\\u00eergu Mure\\u015f in\"}}, {\"text\": \"Emanuel University of Oradea\", \"id\": 4945574, \"metadata\": {\"wikidata\": \"Q3551399\", \"definition\": \"Emanuel University of Oradea is a private Baptist university based in Oradea, Romania. It is affiliated with the Union of Christian Baptist Churches in Romania. History The roots of Emanuel University of Oradea were planted in 1990, as Emanuel Bible Institute by Emanuel Baptist Church of Oradea. It was an underground Bible institute to train the upcoming pastors and missionaries of the Communist Romania.\"}}, {\"text\": \"Universit\\u00e9 de Namur\", \"id\": 4978433, \"metadata\": {\"wikidata\": \"Q1391755\", \"definition\": \"The University of Namur or Universit\\u00e9 de Namur (UNamur) is a Jesuit university in Namur, in the French Community of Belgium. Both teaching and research in the university are carried out by six faculties. Location The University of Namur is located in Namur, Belgium. The main campus is located at the heart of the city of Namur, capital of Wallonia. The main university campus\"}}, {\"text\": \"CY Cergy Paris University\", \"id\": 203533, \"metadata\": {\"wikidata\": \"Q74452784\", \"definition\": \"CY Cergy Paris University (French: CY Cergy Paris Universit\\u00e9) is a public university located in Cergy-Pontoise, France. It was officially announced in October 2019 by the d\\u00e9cret that the university would be founded by combining other institutions on 1 January 2020. The official status of the university is an experimental institution. History The university was created from the merger of several schools of the\"}}, {\"text\": \"Universit\\u00e9 de Hearst\", \"id\": 1862218, \"metadata\": {\"wikidata\": \"Q3551592\", \"definition\": \"Universit\\u00e9 de Hearst (formerly Coll\\u00e8ge universitaire de Hearst) is a public French-language university with its main campus in Hearst, Ontario, Canada. The university has additional campuses in Timmins and Kapuskasing. For most of its history, Hearst was an affiliated school of Laurentian University in Sudbury. It was rechartered as an independent institution on April 1, 2022 following the 2021 Laurentian University financial crisis. Programs\"}}, {\"text\": \"University of Caen Normandy\", \"id\": 2045978, \"metadata\": {\"wikidata\": \"Q568554\", \"definition\": \"The University of Caen Normandy (French: Universit\\u00e9 de Caen Normandie), also known as Unicaen, is a public university in Caen, France. History The institution was founded in 1432 by John of Lancaster, 1st Duke of Bedford, the first rector being a Cornishman, Michael Tregury, afterwards Archbishop of Dublin. It originally consisted of a faculty of Canon Law and a faculty of Law. By 1438,\"}}, {\"text\": \"Universit\\u00e9 de Sherbrooke\", \"id\": 2348716, \"metadata\": {\"wikidata\": \"Q2579532\", \"definition\": \"The Universit\\u00e9 de Sherbrooke (UdeS; English: University of Sherbrooke) is a French-language public research university in Sherbrooke, Quebec, Canada, with a second campus in Longueuil, a suburb on the South Shore of Montreal. It is one of two universities in the Estrie region of Quebec (the other one being Bishop's University), and the only French-language university for the region. As of 2022, the Universit\\u00e9\"}}, {\"text\": \"Bahache/Universit\\u00e9 de Djibouti\", \"id\": 2437048, \"metadata\": {\"wikidata\": \"Q15917245\", \"definition\": \"Universit\\u00e9 de Djibouti, more commonly known as Bahache/Universit\\u00e9 de Djibouti or simply Universit\\u00e9, is a Djiboutian football club located in Djibouti City, Djibouti. It currently plays in the Djibouti Premier League. Stadium Currently the team plays at the 40000 capacity Stade du Ville.\"}}, {\"text\": \"Ac\\u0131badem \\u00dcniversitesi S.K.\", \"id\": 2840946, \"metadata\": {\"wikidata\": \"Q20474016\", \"definition\": \"Ac\\u0131badem \\u00dcniversitesi Spor Kul\\u00fcb\\u00fc, is a Turkish professional basketball club based in Istanbul which plays Turkish Basketball League (TBL). Their home arena is Ac\\u0131badem \\u00dcniversitesi Sports Hall with a capacity of 500 seats. The team was founded by Ac\\u0131badem University in 2014.\"}}, {\"text\": \"University of Pri\\u0161tina (North Mitrovica)\", \"id\": 2927009, \"metadata\": {\"wikidata\": \"Q13527017\", \"definition\": \"The University of Pri\\u0161tina (\\u0423\\u043d\\u0438\\u0432\\u0435\\u0440\\u0437\\u0438\\u0442\\u0435\\u0442 \\u0443 \\u041f\\u0440\\u0438\\u0448\\u0442\\u0438\\u043d\\u0438 Univerzitet u Pri\\u0161tini) is a public university in Kosovo with a temporary seat in North Mitrovica. It is the post-secondary institution that emerged after the disestablishment of the Serbian-language University of Pristina as a result of the Kosovo War. Despite its official name, it is also referred to as the University of Kosovska Mitrovica after its temporary\"}}, {\"text\": \"\\u00c9cole Franco-Indienne Sishya\", \"id\": 3780280, \"metadata\": {\"wikidata\": \"Q19891157\", \"definition\": \"\\u00c9cole Franco-Indienne Sishya (EFIS) is a French international school co-located with the Sishya School in Adyar, Chennai, India. It serves levels from primary school to the second-to-last year of lyc\\u00e9e (senior high school). Elementary grades are directly taught while junior and senior high school/sixth-form grades are served by the National Centre for Distance Education (CNED) distance education programme.\"}}, {\"text\": \"Universitetssjukhuset MAS\", \"id\": 4102180, \"metadata\": {\"wikidata\": \"Q781879\", \"definition\": \"Allm\\u00e4nna sjukhuset is a neighbourhood of Malm\\u00f6, situated in the Borough of S\\u00f6dra Innerstaden, Malm\\u00f6 Municipality, Sk\\u00e5ne County, Sweden. As of 2008 it had 409 inhabitants and covers an area of 25 hectares, most of the area taken up by the Sk\\u00e5ne University Hospital. Neighbourhoods of Malm\\u00f6\"}}, {\"text\": \"Mihail Kog\\u0103lniceanu University of Ia\\u0219i\", \"id\": 4173540, \"metadata\": {\"wikidata\": \"Q6845144\", \"definition\": \"The Mihail Kog\\u0103lniceanu University is a private university in Ia\\u015fi, Romania. Founded in 1990, it was named in honor of the Romanian historian and statesman Mihail Kog\\u0103lniceanu. Structure Faculties Faculty of Law Faculty of Communication and Public Relations\"}}, {\"text\": \"University of Sistan and Baluchestan\", \"id\": 4480509, \"metadata\": {\"wikidata\": \"Q7896310\", \"definition\": \"University of Sistan and Baluchestan is an Iranian public university headquartered in Zahedan, Sistan and Baluchestan province, Iran. The second largest university of Iran, it is the largest university of the province. It has two campuses in Iranshahr and Chabahar. History The University of Sistan and Baluchestan was founded in 1974 originally named University of Sistan and Baluchestan in Zahedan with initial opening of\"}}, {\"text\": \"Paul Verlaine University \\u2013 Metz\", \"id\": 4720161, \"metadata\": {\"wikidata\": \"Q1465237\", \"definition\": \"Paul Verlaine University \\u2013 Metz (Universit\\u00e9 Paul Verlaine - Metz, or UPV-M) was a French university, based in Metz. It merged with Nancy-I, Nancy-II, and the INPL forming the University of Lorraine. The merger process started in 2009 with the creation of a \\\"p\\u00f4les de recherche et d'enseignement sup\\u00e9rieur\\\" or PRES and was completed 1 January 2012.\"}}, {\"text\": \"University of Perpignan Via Domitia\", \"id\": 5213838, \"metadata\": {\"wikidata\": \"Q304872\", \"definition\": \"The University of Perpignan (Universit\\u00e9 de Perpignan; Universitat de Perpiny\\u00e0 Via Dom\\u00edcia) is a French university, located in Perpignan. History The first university of Perpignan was established in 1349 by King Peter IV of Aragon. It is one of the oldest regional universities, following in the steps of more renowned centers of learning, such as the far more influential University of Toulouse and University\"}}, {\"text\": \"Universit\\u00e9 Cara\\u00efbe\", \"id\": 5417062, \"metadata\": {\"wikidata\": \"Q3434858\", \"definition\": \"The Universit\\u00e9 Cara\\u00efbe (Caribbean University) is a university located in Port-au-Prince, Haiti. It was founded in 1988 and is organized in six Faculties. Organization These are the six faculties in which the university is divided into: Faculty of Education Faculty of Engineering Faculty of Agriculture Faculty of Management Faculty of Information science Faculty of Letters and Humanities\"}}, {\"text\": \"University of Pristina\", \"id\": 5937999, \"metadata\": {\"wikidata\": \"Q29659\", \"definition\": \"The University of Pristina (Universiteti i Prishtin\\u00ebs) is a public university located in Pristina, Kosovo. It is the institution that emerged after the disestablishment of the University of Pristina (1969\\u20131999) as a result of the Kosovo War. The inauguration of the university was a historical occurrence not only for the people of Kosovo, but for the whole Albanian nation. On 15 February, the solemn\"}}, {\"text\": \"Goce Del\\u010dev University of \\u0160tip\", \"id\": 6178958, \"metadata\": {\"wikidata\": \"Q2469823\", \"definition\": \"The Goce Del\\u010dev University of \\u0160tip (\\u0423\\u043d\\u0438\\u0432\\u0435\\u0440\\u0437\\u0438\\u0442\\u0435\\u0442 \\u0413\\u043e\\u0446\\u0435 \\u0414\\u0435\\u043b\\u0447\\u0435\\u0432 \\u0428\\u0442\\u0438\\u043f Univerzitet Goce Delchev Shtip; abbr. UGD) is a public university in North Macedonia. Founded in 2007, the university has twelve faculties and three academies (as of July 2019). As of 2018\\u201319 school year, a total of 8,237 students are enrolled at the university. History On 27 March 2007, UGD was established by the Assembly\"}}, {\"text\": \"France Universit\\u00e9 Num\\u00e9rique\", \"id\": 797107, \"metadata\": {\"wikidata\": \"Q16636890\", \"definition\": \"France universit\\u00e9 num\\u00e9rique (FUN) is the French national platform to promote the use of massive open online courses (MOOCs). The portal is supported by the American open edX open source platform, and supported by Google since September 2013. The audiovisual content is hosted on OVH servers. At its launch, the platform was endowed by the government, a budget of eight million euros. Categories There\"}}, {\"text\": \"Hanil University\", \"id\": 2667427, \"metadata\": {\"wikidata\": \"Q5648215\", \"definition\": \"Hanil University (\\ud55c\\uc77c\\uc7a5\\uc2e0\\ub300\\ud559\\uad50) is a private university located in Wanju, South Korea. Started with the merger of the Neel Bible School, founded in 1922 by nursing missionary, Elisabeth Shepping and the Hamilton Bible School founded in Jeonju a year later by medical missionary, M. Ingold. It is described as \\\"an education institute ratified by the General Assembly of the Presbyterian Church in Korea (Tonghap)\\\"\"}}, {\"text\": \"Universitetsforlaget\", \"id\": 2749171, \"metadata\": {\"wikidata\": \"Q7894425\", \"definition\": \"Universitetsforlaget AS (English: \\\"The University Press\\\"), also known in English as Scandinavian University Press, is a Norwegian academic publishing company, which publishes non-fiction literature and journals mainly oriented to Scandinavia. Universitetsforlaget is the largest academic press in Scandinavia, and is a wholly owned independently operated subsidiary of Aschehoug, founded in 1872. Universitetsforlaget was originally the name of an independent publishing company founded by T\\u00f8nnes\"}}, {\"text\": \"University of Northern Bahr El-Ghazal\", \"id\": 3822005, \"metadata\": {\"wikidata\": \"Q2892765\", \"definition\": \"University of Northern Bahr el Ghazal (UNBEG) is a university in South Sudan. The Vice Chancellor of the University of Northern Bahr El-Ghazal is Prof. Stephen Chol Ajongo Location The university is located in the city of Aweil, in Aweil Central County, Northern State, in the Bahr el Ghazal Region, in northwestern South Sudan, near the International border with the Republic of Sudan. Its\"}}, {\"text\": \"University of Picardy Jules Verne\", \"id\": 4477827, \"metadata\": {\"wikidata\": \"Q947747\", \"definition\": \"The University of Picardy Jules Verne (French: Universit\\u00e9 de Picardie Jules Verne; UPJV) is a public university located in the former Picardy region of France (now part of Hauts-de-France). It consists of several campuses located in the towns of Amiens, Beauvais, Cuffies, Saint-Quentin, Creil, and Laon. The university was part of the University of Lille Nord de France group. History The University of Picardy\"}}, {\"text\": \"Hogeschool-Universiteit Brussel\", \"id\": 5495762, \"metadata\": {\"wikidata\": \"Q606670\", \"definition\": \"Hogeschool-Universiteit Brussel (HUBrussel or HUB) was a Dutch language university founded in 2007. HUBrussel was the result of a merger between Brussels-based colleges European University College Brussels, Vlekho, HONIM and Catholic University of Brussels (KUBrussel). HUBrussel offered degrees both at university and college level for the Flemish Community of Belgium. Degrees were offered both in Dutch and in English. From 2013 on, university level\"}}, {\"text\": \"University of Sassari\", \"id\": 5918521, \"metadata\": {\"wikidata\": \"Q532822\", \"definition\": \"The University of Sassari (Universit\\u00e0 degli Studi di Sassari, UniSS) is a public university located in Sassari, Italy. It was founded in 1562 and is organized in 13 departments. The University of Sassari earned first place in the rankings for the best \\u201cmedium-sized\\u201d Italian university, in 2009\\u20132010, by the Censis Research Institute, but in 2012 it fell to the 6th position among the best\"}}, {\"text\": \"Luigj Gurakuqi University of Shkod\\u00ebr\", \"id\": 6039117, \"metadata\": {\"wikidata\": \"Q1142368\", \"definition\": \"The Luigj Gurakuqi University of Shkod\\u00ebr (Universiteti i Shkodr\\u00ebs \\\"Luigj Gurakuqi\\\") is an Albanian public university established in 1957. It has 6 faculties, 26 branches, 21 departments and more than 190 professors. It has been the major institution of higher education in the region, especially in the technical and scientific disciplines. In 1992, the university received permission from the government to initiate the development\"}}, {\"text\": \"Sardar Patel University Mandi\", \"id\": 440224, \"metadata\": {\"wikidata\": \"Q111744229\", \"definition\": \"Sardar Patel University Mandi (formerly Sardar Vallabhbhai Patel Cluster University) is an Indian public state university located in the Mandi, Himachal Pradesh on the banks of river Beas. It was established by the Act No. 3 of 2022 of the Himachal Pradesh Legislative Assembly. Having jurisdiction over five districts (Mandi, Kullu, Lahaul-Spiti, Chamba, and Kangra), this affiliating university provides affiliation to about 119 colleges\"}}, {\"text\": \"\\u00c9cole polytechnique universitaire de Sorbonne Universit\\u00e9\", \"id\": 958030, \"metadata\": {\"wikidata\": \"Q3578315\", \"definition\": \"\\u00c9cole polytechnique universitaire de Sorbonne Universit\\u00e9 (Polytech Sorbonne) a French engineering College in Paris, France, created in 1983. The school trains engineers in high sectors : Agribusiness, Electronics and Computers, Applied Mathematics and Computers, Materials, Robotics, Earth sciences, Mechanical engineering. Located in the city of Paris, Polytech Sorbonne is a public higher education institution. The school is a member of the Sorbonne University.\"}}, {\"text\": \"\\u00dcniversite (Tram \\u0130zmir)\", \"id\": 1382370, \"metadata\": {\"wikidata\": \"Q48964786\", \"definition\": \"\\u00dcniversite is a light-rail station on the Konak Tram of the Tram \\u0130zmir system in \\u0130zmir, Turkey. Originally named E\\u011fitim Sitesi, it is located along \\u015eehitler Avenue and consists of a side platform and one track. Only Halkap\\u0131nar-bound (Eastbound) trams stop at \\u00dcniversite, since westbound trams travel along Liman Avenue one block north. The station gets its name from the Nevvar Salih \\u0130\\u015fg\\u00f6ren High\"}}, {\"text\": \"Universit\\u00e9 de Saint-Boniface\", \"id\": 1756434, \"metadata\": {\"wikidata\": \"Q3551667\", \"definition\": \"The Universit\\u00e9 de Saint-Boniface (USB) is a French-language public university located in the Saint Boniface neighbourhood of Winnipeg, Manitoba, Canada. An affiliated institution of the University of Manitoba, the university offers general and specialized university degree programs as well as technical and professional training. In 2014, 1,368 regular students were enrolled. Its Continuing Education Division, which includes a language school, has also counted over\"}}, {\"text\": \"VSB \\u2013 Technical University of Ostrava\", \"id\": 1901043, \"metadata\": {\"wikidata\": \"Q1247543\", \"definition\": \"VSB \\u2013 Technical University of Ostrava (abbreviated VSB\\u2013TUO; Vysok\\u00e1 \\u0161kola b\\u00e1\\u0148sk\\u00e1 \\u2013 Technick\\u00e1 univerzita Ostrava) is a university in Ostrava in the Moravian-Silesian Region of the Czech Republic. It is a polytechnic university with a long history of high-quality engineering education and research. The first Fraunhofer Innovation Platform for Applied Artificial Intelligence for Materials and Manufacturing in the Czech Republic was located at VSB\"}}, {\"text\": \"Netaji Subhas Open University\", \"id\": 2036489, \"metadata\": {\"wikidata\": \"Q3350895\", \"definition\": \"Netaji Subhas Open University (NSOU) is a state open university imparting distance education in eastern India History It was established in 1997 to commemorate the birth centenary of Netaji Subhas Chandra Bose. It has its headquarters at 1, Woodburn Park, Kolkata - 700020, It was the residence of Sarat Chandra Bose from late 1928. Netaji lived mainly at 38/2 Elgin Road & at Woodburn\"}}, {\"text\": \"Paris-Sorbonne University\", \"id\": 2049316, \"metadata\": {\"wikidata\": \"Q546118\", \"definition\": \"Paris-Sorbonne University (also known as Paris IV; Universit\\u00e9 Paris-Sorbonne, Paris IV) was a public research university in Paris, France, active from 1971 to 2017. It was the main inheritor of the Faculty of Humanities of the University of Paris. In 2018, it merged with Pierre and Marie Curie University and some smaller entities to form a new university called Sorbonne University. History Paris-Sorbonne University\"}}, {\"text\": \"Capital University of Economics and Business\", \"id\": 2207006, \"metadata\": {\"wikidata\": \"Q1589630\", \"definition\": \"The Capital University of Economics and Business (CUEB; \\u9996\\u90fd\\u7ecf\\u6d4e\\u8d38\\u6613\\u5927\\u5b66 no) is a municipal public university in Fengtai, Beijing, China. It is affiliated with the City of Beijing and funded by the Beijing Municipal People's Government. In March 1995, Capital University of Economics and Business was established through the merger of then Beijing Economics College (\\u5317\\u4eac\\u7ecf\\u6d4e\\u5b66\\u9662) and then Beijing Finance and Business College (\\u5317\\u4eac\\u8d22\\u8d38\\u5b66\\u9662).\"}}, {\"text\": \"Federal University of Technology Akure\", \"id\": 2209317, \"metadata\": {\"wikidata\": \"Q5440486\", \"definition\": \"The Federal University of Technology Akure (informally FUT Akure or simply FUTA) is a federal government-owned university located in Akure, Ondo State, Nigeria. It was founded in 1981 driven by the federal government of Nigeria to create universities that specialized in producing graduates with practical as well as theoretical knowledge of technologies. Other universities of technology established around the same time were the Federal\"}}, {\"text\": \"Hacettepe \\u00dcniversitesi B.K.\", \"id\": 2716855, \"metadata\": {\"wikidata\": \"Q3782354\", \"definition\": \"Hacettepe \\u00dcniversitesi Basketbol Kul\\u00fcb\\u00fc (English: Hacettepe University Basketball Club) is a professional basketball team of based in Ankara, Turkey. The team is the official athletics branch of Hacettepe University. Their home arena is the Ankara Arena with a capacity of 10,400 seats, which was opened in 2010. History The team was founded in 1982. In 2011, Hacettepe \\u00dcniversitesi was promoted to the Turkish Basketball\"}}, {\"text\": \"Capital University of Science & Technology\", \"id\": 3132260, \"metadata\": {\"wikidata\": \"Q21244915\", \"definition\": \"The Capital University of Science & Technology (\\u062c\\u0627\\u0645\\u0639\\u06c1 \\u062f\\u0627\\u0631\\u0627\\u0644\\u062d\\u06a9\\u0648\\u0645\\u062a \\u0633\\u0627\\u0626\\u0646\\u0633 \\u0648 \\u0679\\u06cc\\u06a9\\u0646\\u0627\\u0644\\u0648\\u062c\\u06cc) is a private university located in Islamabad, Pakistan. Established in 1998 under the banner of Muhammad Ali Jinnah University Islamabad Campus, the university offers undergraduate and post-graduate programs with a strong emphasis on business management, applied sciences, engineering and computer science. History The Punjab Group of Colleges has been serving the community\"}}, {\"text\": \"Community Universit\\u00e9 Grenoble Alpes\", \"id\": 3570428, \"metadata\": {\"wikidata\": \"Q3551589\", \"definition\": \"The Community Universit\\u00e9 Grenoble Alpes (Communaut\\u00e9 Universit\\u00e9 Grenoble Alpes) is the association of universities and higher education institutions (ComUE) for institutions of higher education and research for Grenoble, Chamb\\u00e9ry, Annecy and Valence in the Rh\\u00f4ne-Alpes region of France. The association was created as a ComUE according to the 2013 Law on Higher Education and Research (France), effective December 29, 2014. At the same time,\"}}, {\"text\": \"University of Bunda Mulia\", \"id\": 3755408, \"metadata\": {\"wikidata\": \"Q7895145\", \"definition\": \"The University of Bunda Mulia (also known in Universitas Bunda Mulia or simply as \\\"UBM\\\") is one of the major Indonesian private universities, located in North Jakarta, Indonesia. Based on the selection made by the Directorate General of Higher Education from March to June 2006 to more than 2,000 universities in Indonesia, by the method of information filtering using the inputs from EPSBED, BAN\"}}, {\"text\": \"University of Bahr El-Ghazal\", \"id\": 3822165, \"metadata\": {\"wikidata\": \"Q7895105\", \"definition\": \"University of Bahr El-Ghazal (UBG) is a university in South Sudan located in Wau, the capital of Western Bahr El Ghazal State. It was established in 1991. Location The University is located in the city of Wau, in Wau County, Wau State in the Bahr El Ghazal Region in the northwestern part of South Sudan. It is 650 km650 km miles northwest of Juba,\"}}, {\"text\": \"Ankara University SK\", \"id\": 4166512, \"metadata\": {\"wikidata\": \"Q556452\", \"definition\": \"The sports club Ankara University is a professional men's and women's ice hockey team from Ankara, Turkey. The men's team participated in the Turkish Hockey SuperLig (TBHSL) for the first time in the season (2009\\u20132010), and became champion. The women's team plays in Group A in the Turkish Ice Hockey Women's League Men's team Season-by-season record Turkish Ice Hockey Super League Men\\u2019s roster (2009-2010)\"}}, {\"text\": \"Holy Spirit University of Kaslik\", \"id\": 4682742, \"metadata\": {\"wikidata\": \"Q1310333\", \"definition\": \"The Holy Spirit University of Kaslik (USEK; \\u062c\\u0627\\u0645\\u0639\\u0629 \\u0627\\u0644\\u0631\\u0651\\u0648\\u062d \\u0627\\u0644\\u0642\\u062f\\u0633 \\u2013 \\u0627\\u0644\\u0643\\u0633\\u0644\\u064a\\u0643, J\\u0101mi\\u02bfah al-R\\u016b\\u1e25 al-Quddus \\u2013 al-Kasl\\u012bk) is a private, non-profit, Catholic university in Jounieh, Lebanon. The university was founded in 1950 and ratified under the new Higher Education Law of 1962. USEK is the first university in Lebanon to be established by Lebanese citizens. The university began as a one-building scholasticate founded by\"}}, {\"text\": \"University of Kurdistan (Iran)\", \"id\": 4724146, \"metadata\": {\"wikidata\": \"Q42238\", \"definition\": \"University of Kurdistan ( \\u062f\\u0627\\u0646\\u0634\\u06af\\u0627\\u0647 \\u0643\\u0631\\u062f\\u0633\\u062a\\u0627\\u0646; D\\u00e2neshg\\u00e2h-e Kordest\\u00e2n) is the largest university in Iranian Kurdistan Province, located in south of Sanandaj. The University of Kurdistan was ranked as the eighth top university in Iran (categorized by quantity and quality of research activities) in academic year 2007-2008 and was ranked as the first top developing university in Iran in academic year 2006\\u20132007. Overview of UOK\"}}, {\"text\": \"University Carlo Cattaneo\", \"id\": 4774490, \"metadata\": {\"wikidata\": \"Q3551385\", \"definition\": \"The Carlo Cattaneo University (Libera Universit\\u00e0 Carlo Cattaneo, LIUC) is a proprietary, for-profit university located in Castellanza, Italy. History and profile It was founded in 1991, by around 300 entrepreneurs, as a joint venture between Italian corporations who provided the initial funding and continued to provide support and guidance under the seal of the Industrial Association of the Province of Varese (UNIVA). The university,\"}}, {\"text\": \"\\u00c9cole Polytechnique de l'Universit\\u00e9 de Lorraine\", \"id\": 4832752, \"metadata\": {\"wikidata\": \"Q3578504\", \"definition\": \"The \\u00c9cole polytechnique de l'universit\\u00e9 de Lorraine, or Polytech Nancy is a French grande \\u00e9cole located in Nancy. It was created in 1960 under the name of ISIN, was renamed Ecole Sup\\u00e9rieure des Sciences et Technologies de l'Ing\\u00e9nieur de Nancy or ESSTIN in 1985. It merged into the University of Lorraine in 2012, and joined the Polytech Group in 2017. The school teaches to\"}}, {\"text\": \"University of Peloponnese\", \"id\": 4979012, \"metadata\": {\"wikidata\": \"Q3551766\", \"definition\": \"The University of Peloponnese (UoP; \\u03a0\\u03b1\\u03bd\\u03b5\\u03c0\\u03b9\\u03c3\\u03c4\\u03ae\\u03bc\\u03b9\\u03bf \\u03a0\\u03b5\\u03bb\\u03bf\\u03c0\\u03bf\\u03bd\\u03bd\\u03ae\\u03c3\\u03bf\\u03c5) is a Greek tertiary educational institution, composed of campuses in Tripoli, Corinth, Kalamata, Nafplio, Sparta, and Patras with more than 25,000 students in 9 schools across the campuses, with the former being in turn composed of 22 departments. History UoP was established as a public university system with the presidential decree 13/2000. The Tripoli campus was the\"}}, {\"text\": \"Toulouse III - Paul Sabatier University\", \"id\": 5219009, \"metadata\": {\"wikidata\": \"Q1273188\", \"definition\": \"Paul Sabatier University (Universit\\u00e9 Paul Sabatier, UPS, also known as Toulouse III) is a French university, in the Academy of Toulouse. It is one of the several successor universities of the University of Toulouse. Toulouse III was named after Paul Sabatier, winner of the 1912 Nobel prize in chemistry. In 1969, it was established on the foundations of the old Toulouse university that was\"}}, {\"text\": \"Jorge Basadre Grohmann National University\", \"id\": 5230685, \"metadata\": {\"wikidata\": \"Q6156567\", \"definition\": \"The Jorge Basadre Grohmann National University (Universidad Nacional Jorge Basadre Grohmann) is a public university located in the city of Tacna, Peru. It was founded by Decree Law No. 1894 on August 26, 1971; academic activities started on May 13, 1972. The university is named after Jorge Basadre, a renowned Peruvian historian born in Tacna. Currently, the university is known by the acronym UNJBG\"}}, {\"text\": \"Vasile Alecsandri University of Bac\\u0103u\", \"id\": 5428567, \"metadata\": {\"wikidata\": \"Q495258\", \"definition\": \"The Vasile Alecsandri University of Bac\\u0103u (Universitatea \\u201eVasile Alecsandri\\u201d din Bac\\u0103u) is a public university in Romania, located in Bac\\u0103u. Named in honor of the poet Vasile Alecsandri, it was founded in 1990. History The first higher education school in Bac\\u0103u was founded in 1961 as the Pedagogical Institute of Bac\\u0103u. In 1984 it was transformed into the Sub-Engineering Institute, subordinated to the Technical\"}}, {\"text\": \"Ismail Qemali University of Vlor\\u00eb\", \"id\": 5708505, \"metadata\": {\"wikidata\": \"Q1472179\", \"definition\": \"The Ismail Qemali University of Vlor\\u00eb (Universiteti \\\"Ismail Qemali\\\" i Vlor\\u00ebs) is a public university located in Vlor\\u00eb, Albania. It was founded in 1994 as Vlor\\u00eb University of Technology Ismail Qemali. As of 2014, it offers degrees in economics, public health, and humanities, in addition to engineering and technology.\"}}, {\"text\": \"Bordeaux Segalen University\", \"id\": 5799981, \"metadata\": {\"wikidata\": \"Q13340\", \"definition\": \"Bordeaux Segalen University (Universit\\u00e9 Bordeaux Segalen; originally called University of Victor Segalen Bordeaux II) was one of four universities in Bordeaux (together with Bordeaux 1, Michel de Montaigne Bordeaux 3 and Montesquieu Bordeaux IV) and five in Aquitaine. In 2014, it merged with Bordeaux 1 and Bordeaux 4 to form University of Bordeaux. Bordeaux Segalen was specialized in Life and Health Sciences and Human\"}}, {\"text\": \"Spiru Haret University\", \"id\": 5864733, \"metadata\": {\"wikidata\": \"Q1132587\", \"definition\": \"The Spiru Haret University is a private university in Bucharest, Romania, founded in 1991 by the president of Tomorrow's Romania Foundation, Aurelian Gh. Bondrea, as part of the teaching activities of this foundation. The university claims this has been done according to the model used by Harvard University. The university bears the name of a scientist and reformer of the Romanian education, Spiru Haret,\"}}, {\"text\": \"Kore University of Enna\", \"id\": 5914499, \"metadata\": {\"wikidata\": \"Q1481995\", \"definition\": \"The Kore University of Enna, in Italian Universit\\u00e0 Kore di Enna, is a university founded in 2004 in Enna, the capital city of the Province of Enna, in the center of Sicily and has been visited by two Italian Presidents (Oscar Luigi Scalfaro before, and Carlo Azeglio Ciampi for the final inauguration). The university has very modern facilities; it also has a strong relationships\"}}, {\"text\": \"Facult\\u00e9 de droit de l'Universit\\u00e9 Laval\", \"id\": 6033519, \"metadata\": {\"wikidata\": \"Q5429093\", \"definition\": \"The Facult\\u00e9 de droit de l'Universit\\u00e9 Laval is the law school of fr Universit\\u00e9 Laval no. Founded in 1852, it is one of the oldest institutions of its kind in North America. It hosts more than students in its curriculum of first, second, and third years, with more than 45 lecturers teaching and supervising research projects in most areas of law. The research activity\"}}, {\"text\": \"List of University of Zaragoza people\", \"id\": 383649, \"metadata\": {\"wikidata\": \"Q13049981\", \"definition\": \"This is a list of University of Zaragoza people, including notable alumni and staff. Notable alumni Science/Math/Academics Santiago Ram\\u00f3n y Cajal, awarded the Nobel Prize in Physiology or Medicine in 1906 and is widely recognized as the father of modern neuroscience. A mention of his famous brain cell drawings was made in episode 16 of season 6, \\u201cThe Tangible Affection Proof\\u201d, of The Big\"}}, {\"text\": \"Universit\\u00e9 Paris Cit\\u00e9\", \"id\": 641077, \"metadata\": {\"wikidata\": \"Q55849612\", \"definition\": \"Paris Cit\\u00e9 University (no Universit\\u00e9 Paris Cit\\u00e9) is a public research university located in Paris, France. It was created by decree on 20 March 2019, resulting from the merger of Paris Descartes (Paris V) and Paris Diderot (Paris VII) universities, established following the division of the University of Paris in 1970. It was originally established as the University of Paris (no Universit\\u00e9 de Paris),\"}}, {\"text\": \"Malatya Turgut \\u00d6zal University\", \"id\": 853345, \"metadata\": {\"wikidata\": \"Q52236553\", \"definition\": \"Malatya Turgut \\u00d6zal University, shortened MT\\u00dc, is a public university in Malatya, Turkey which was formed on 18 May 2018 by the separation from In\\u00f6n\\u00fc University. As of 2021, the university has 6 faculties, 2 colleges, 1 institute and 8 vocational schools. History In 2018, some faculties which have been separated from In\\u00f6n\\u00fc University in accordance with the law no 7141 such as Faculty\"}}, {\"text\": \"Katholieke Universiteit Leuven Kulak\", \"id\": 1720620, \"metadata\": {\"wikidata\": \"Q1736308\", \"definition\": \"The Katholieke Universiteit Leuven Associatie Kortrijk (Catholic University of Leuven Campus Kortrijk), or Kulak for short, is a university satellite campus of the KU Leuven in the city of Kortrijk (Courtrai) in the Belgian province of West Flanders and is therefore also officially a Dutch-speaking institution. Background As the name implies, it is a university campus affiliated with the Katholieke Universiteit Leuven situated on\"}}, {\"text\": \"University of Amikom Yogyakarta\", \"id\": 2543024, \"metadata\": {\"wikidata\": \"Q12511331\", \"definition\": \"The University of AMIKOM Yogyakarta is a private IT college in Sleman Regency, Special Region of Yogyakarta, Indonesia. The college was established on December 29, 1992, under the auspices of the Yogyakarta AMIKOM Foundation. It has 2 diploma programs, 13 undergraduate programs, and 1 postgraduate program; all are accredited. The university concentrates on efforts to become the world's leading university in the field of\"}}, {\"text\": \"Ankara \\u00dcniversitesi SK\", \"id\": 2762505, \"metadata\": {\"wikidata\": \"Q4765984\", \"definition\": \"Ankara \\u00dcniversitesi Spor Kul\\u00fcb\\u00fc, is an amateur Korfball club from Ankara, Turkey. In 2011 the club won the Turkish title by beating Kocaeli \\u00dcniversitesi 14\\u201313. Squad (Current) Player / Head coach TUR Ferda G\\u00fcrsel Honours 2011 - Turkish Champion (1 time) External links Turkey Korfball Korfball teams Korfball in Turkey Ankara University\"}}]]], triplet=[[[{\"text\": \"headquarters location\", \"id\": 19, \"metadata\": {\"description\": \"city or town, where an organization's headquarters is or has been situated. Use P276 qualifier for specific building\", \"property\": \"P159\"}}, {\"text\": \"location\", \"id\": 2, \"metadata\": {\"description\": \"location of the object, structure or event. In the case of an administrative entity as containing item use P131. For statistical entities use P8138. In the case of a geographic entity use P706. Use P7153 for locations associated with the object\", \"property\": \"P276\"}}, {\"text\": \"educated at\", \"id\": 35, \"metadata\": {\"description\": \"educational institution attended by subject\", \"property\": \"P69\"}}, {\"text\": \"significant place\", \"id\": 16, \"metadata\": {\"description\": \"significant or notable places associated with the subject\", \"property\": \"P7153\"}}, {\"text\": \"part of\", \"id\": 3, \"metadata\": {\"description\": \"object of which the subject is a part (if this subject is already part of object A which is a part of object B, then please only make the subject part of object A), inverse property of \\\"has part\\\" (P527, see also \\\"has parts of the class\\\" (P2670))\", \"property\": \"P361\"}}, {\"text\": \"represents\", \"id\": 120, \"metadata\": {\"description\": \"organization, individual, or concept that an entity represents\", \"property\": \"P1268\"}}, {\"text\": \"student\", \"id\": 69, \"metadata\": {\"description\": \"notable student(s) of the subject individual\", \"property\": \"P802\"}}, {\"text\": \"member of\", \"id\": 1, \"metadata\": {\"description\": \"organization, club or musical group to which the subject belongs. Do not use for membership in ethnic or social groups, nor for holding a political position, such as a member of parliament (use P39 for that)\", \"property\": \"P463\"}}, {\"text\": \"academic degree\", \"id\": 236, \"metadata\": {\"description\": \"academic degree that the person holds\", \"property\": \"P512\"}}, {\"text\": \"employer\", \"id\": 38, \"metadata\": {\"description\": \"person or organization for which the subject works or worked\", \"property\": \"P108\"}}, {\"text\": \"residence\", \"id\": 52, \"metadata\": {\"description\": \"the place where the person is or has been, resident\", \"property\": \"P551\"}}, {\"text\": \"location of creation\", \"id\": 67, \"metadata\": {\"description\": \"place where the item was conceived or made; where applicable, location of final assembly\", \"property\": \"P1071\"}}, {\"text\": \"instance of\", \"id\": 20, \"metadata\": {\"description\": \"that class of which this subject is a particular example and member; different from P279 (subclass of); for example: K2 is an instance of mountain; volcano is a subclass of mountain (and an instance of volcanic landform)\", \"property\": \"P31\"}}, {\"text\": \"capital\", \"id\": 72, \"metadata\": {\"description\": \"seat of government of a country, province, state or other type of administrative territorial entity\", \"property\": \"P36\"}}, {\"text\": \"participant\", \"id\": 9, \"metadata\": {\"description\": \"person, group of people or organization (object) that actively takes/took part in an event or process (subject).  Preferably qualify with \\\"object has role\\\" (P3831). Use P1923 for participants that are teams.\", \"property\": \"P710\"}}, {\"text\": \"place of death\", \"id\": 49, \"metadata\": {\"description\": \"most specific known (e.g. city instead of country, or hospital instead of city) death location of a person, animal or fictional character\", \"property\": \"P20\"}}, {\"text\": \"supervised by\", \"id\": 138, \"metadata\": {\"description\": \"natural person who has the authority of giving instructions and/or orders to subordinates and is held responsible for the work and actions of subordinates\", \"property\": \"P7604\"}}, {\"text\": \"has works in the collection\", \"id\": 117, \"metadata\": {\"description\": \"collection that has works of this person or organisation (use archives at [P485] for archives)\", \"property\": \"P6379\"}}, {\"text\": \"diocese\", \"id\": 221, \"metadata\": {\"description\": \"administrative division of the church to which the element belongs; use P5607 for other types of ecclesiastical territorial entities\", \"property\": \"P708\"}}, {\"text\": \"used by\", \"id\": 21, \"metadata\": {\"description\": \"item or concept that makes use of the subject (use sub-properties when appropriate)\", \"property\": \"P1535\"}}, {\"text\": \"student organization of\", \"id\": 554, \"metadata\": {\"description\": \"the members of this organization (club or society) are students of the target educational institution\", \"property\": \"P6840\"}}, {\"text\": \"country\", \"id\": 0, \"metadata\": {\"description\": \"sovereign state that this item is in (not to be used for human beings)\", \"property\": \"P17\"}}, {\"text\": \"sponsor\", \"id\": 165, \"metadata\": {\"description\": \"organization or individual that sponsors this item\", \"property\": \"P859\"}}, {\"text\": \"named after\", \"id\": 45, \"metadata\": {\"description\": \"entity or event that inspired the subject's name, or namesake (in at least one language). Qualifier \\\"applies to name\\\" (P5168) can be used to indicate which one\", \"property\": \"P138\"}}, {\"text\": \"place of burial\", \"id\": 90, \"metadata\": {\"description\": \"location of grave, resting place, place of ash-scattering, etc. (e.g., town/city or cemetery) for a person or animal. There may be several places: e.g., re-burials, parts of body buried separately.\", \"property\": \"P119\"}}, {\"text\": \"court\", \"id\": 104, \"metadata\": {\"description\": \"specific court a legal case is/was heard/decided in\", \"property\": \"P4884\"}}, {\"text\": \"interested in\", \"id\": 180, \"metadata\": {\"description\": \"item of special or vested interest to this person or organisation\", \"property\": \"P2650\"}}, {\"text\": \"different from\", \"id\": 22, \"metadata\": {\"description\": \"item that is different from another item, with which it may be confused\", \"property\": \"P1889\"}}, {\"text\": \"owned by\", \"id\": 44, \"metadata\": {\"description\": \"owner of the subject\", \"property\": \"P127\"}}, {\"text\": \"developer\", \"id\": 33, \"metadata\": {\"description\": \"organization or person that developed the item\", \"property\": \"P178\"}}, {\"text\": \"is the study of\", \"id\": 113, \"metadata\": {\"description\": \"the object that an academic field studies; distinct from field of work (P101), which is used for human, organization, etc.\", \"property\": \"P2578\"}}, {\"text\": \"winner\", \"id\": 28, \"metadata\": {\"description\": \"winner of a competition or similar event, not to be used for awards (instead use \\\"award received\\\" (P166) on awardee's item, possibly qualified with \\\"for work\\\" (P1686)) or for wars or battles\", \"property\": \"P1346\"}}, {\"text\": \"adjacent building\", \"id\": 286, \"metadata\": {\"description\": \"building adjacent to the item\", \"property\": \"P3032\"}}, {\"text\": \"founded by\", \"id\": 43, \"metadata\": {\"description\": \"founder or co-founder of this organization, religion, place or entity\", \"property\": \"P112\"}}, {\"text\": \"place of birth\", \"id\": 39, \"metadata\": {\"description\": \"most specific known (e.g. city instead of country, or hospital instead of city) birth location of a person, animal or fictional character\", \"property\": \"P19\"}}, {\"text\": \"organizer\", \"id\": 81, \"metadata\": {\"description\": \"person or institution organizing an event\", \"property\": \"P664\"}}, {\"text\": \"creator\", \"id\": 8, \"metadata\": {\"description\": \"maker of this creative work or other object (where no more specific property exists)\", \"property\": \"P170\"}}, {\"text\": \"follows\", \"id\": 13, \"metadata\": {\"description\": \"immediately prior item in a series of which the subject is a part, preferably use as qualifier of P179 [if the subject has replaced the preceding item, e.g. political offices, use \\\"replaces\\\" (P1365)]\", \"property\": \"P155\"}}, {\"text\": \"movement\", \"id\": 93, \"metadata\": {\"description\": \"literary, artistic, scientific or philosophical movement or scene associated with this person or work. For political ideologies use P1142.\", \"property\": \"P135\"}}, {\"text\": \"twinned administrative body\", \"id\": 95, \"metadata\": {\"description\": \"twin towns, sister cities, twinned municipalities and other localities that have a partnership or cooperative agreement, either legally or informally acknowledged by their governments\", \"property\": \"P190\"}}, {\"text\": \"commissioned by\", \"id\": 139, \"metadata\": {\"description\": \"person or organization that commissioned this work\", \"property\": \"P88\"}}, {\"text\": \"research site\", \"id\": 428, \"metadata\": {\"description\": \"place where this item was researched\", \"property\": \"P6153\"}}, {\"text\": \"dissertation submitted to\", \"id\": 502, \"metadata\": {\"description\": \"institution to whom a thesis or dissertation is submitted\", \"property\": \"P4101\"}}, {\"text\": \"end grade\", \"id\": 612, \"metadata\": {\"description\": \"highest educational year (aka grade) taught by this institution\", \"property\": \"P7095\"}}, {\"text\": \"subclass of\", \"id\": 23, \"metadata\": {\"description\": \"this item is a subclass (subset) of that item; all instances of this item are instances of that item; different from P31 (instance of), e.g.: K2 is an instance of mountain; volcano is a subclass of mountain (and an instance of volcanic landform)\", \"property\": \"P279\"}}, {\"text\": \"conferred by\", \"id\": 110, \"metadata\": {\"description\": \"person or organization who grants an award, certification, grant, or role\", \"property\": \"P1027\"}}, {\"text\": \"designed by\", \"id\": 70, \"metadata\": {\"description\": \"person(s) or organization which designed the object\", \"property\": \"P287\"}}, {\"text\": \"place of publication\", \"id\": 60, \"metadata\": {\"description\": \"geographical place of publication of the edition (use 1st edition when referring to works)\", \"property\": \"P291\"}}, {\"text\": \"office held by head of the organization\", \"id\": 127, \"metadata\": {\"description\": \"position of the head of this item\", \"property\": \"P2388\"}}, {\"text\": \"manufacturer\", \"id\": 40, \"metadata\": {\"description\": \"(main or final) manufacturer or producer of this product\", \"property\": \"P176\"}}, {\"text\": \"prerequisite\", \"id\": 363, \"metadata\": {\"description\": \"prior event or achievement that a person or team needs to complete before joining or obtaining the item topic, e.g. a qualifying round of a sports event, a lower-level course in an educational program, or a lower level of a professional qualification\", \"property\": \"P4967\"}}, {\"text\": \"shares border with\", \"id\": 27, \"metadata\": {\"description\": \"countries or administrative subdivisions, of equal level, that this item borders, either by land or water. A single common point is enough.\", \"property\": \"P47\"}}, {\"text\": \"field of work\", \"id\": 53, \"metadata\": {\"description\": \"specialization of a person or organization; see P106 for the occupation\", \"property\": \"P101\"}}, {\"text\": \"academic thesis\", \"id\": 427, \"metadata\": {\"description\": \"thesis or dissertation written for a degree\", \"property\": \"P1026\"}}, {\"text\": \"dedicated to\", \"id\": 175, \"metadata\": {\"description\": \"person or organization to whom the subject was dedicated\", \"property\": \"P825\"}}, {\"text\": \"school district\", \"id\": 227, \"metadata\": {\"description\": \"school district to which a settlement or other item belongs\", \"property\": \"P5353\"}}, {\"text\": \"mascot\", \"id\": 235, \"metadata\": {\"description\": \"mascot of an organization, e.g. a sports team or university\", \"property\": \"P822\"}}, {\"text\": \"official observer status in organisation\", \"id\": 476, \"metadata\": {\"description\": \"Organisation by which the subject is granted observer status\", \"property\": \"P10624\"}}, {\"text\": \"publisher\", \"id\": 34, \"metadata\": {\"description\": \"organization or person responsible for publishing books, periodicals, printed music, podcasts, games or software\", \"property\": \"P123\"}}, {\"text\": \"review score by\", \"id\": 595, \"metadata\": {\"description\": \"issuer of a review score\", \"property\": \"P447\"}}, {\"text\": \"child\", \"id\": 14, \"metadata\": {\"description\": \"subject has object as child. Do not use for stepchildren\\u2014use \\\"relative\\\" (P1038), qualified with \\\"type of kinship\\\" (P1039)\", \"property\": \"P40\"}}, {\"text\": \"spouse\", \"id\": 5, \"metadata\": {\"description\": \"the subject has the object as their spouse (husband, wife, partner, etc.). Use \\\"unmarried partner\\\" (P451) for non-married companions\", \"property\": \"P26\"}}, {\"text\": \"start time\", \"id\": 55, \"metadata\": {\"description\": \"time an entity begins to exist or a statement starts being valid\", \"property\": \"P580\"}}, {\"text\": \"opposite of\", \"id\": 56, \"metadata\": {\"description\": \"item that is in some way the opposite of this item\", \"property\": \"P461\"}}, {\"text\": \"facet of\", \"id\": 64, \"metadata\": {\"description\": \"topic of which this item is an aspect, item that offers a broader perspective on the same topic\", \"property\": \"P1269\"}}, {\"text\": \"curator\", \"id\": 511, \"metadata\": {\"description\": \"content specialist responsible for this collection or exhibition\", \"property\": \"P1640\"}}, {\"text\": \"currency\", \"id\": 126, \"metadata\": {\"description\": \"currency used by item\", \"property\": \"P38\"}}, {\"text\": \"brand\", \"id\": 155, \"metadata\": {\"description\": \"commercial brand associated with the item\", \"property\": \"P1716\"}}, {\"text\": \"structural engineer\", \"id\": 254, \"metadata\": {\"description\": \"person, group or organisation responsible for the structural engineering of a building or structure\", \"property\": \"P631\"}}, {\"text\": \"health specialty\", \"id\": 279, \"metadata\": {\"description\": \"main specialty that diagnoses, prevent human illness, injury and other physical and mental impairments\", \"property\": \"P1995\"}}, {\"text\": \"significant event\", \"id\": 46, \"metadata\": {\"description\": \"significant or notable events associated with the subject\", \"property\": \"P793\"}}, {\"text\": \"relative\", \"id\": 58, \"metadata\": {\"description\": \"family member (qualify with \\\"kinship to subject\\\", P1039; for direct family member please use specific property)\", \"property\": \"P1038\"}}, {\"text\": \"legislative body\", \"id\": 101, \"metadata\": {\"description\": \"legislative body governing this entity; political institution with elected representatives, such as a parliament/legislature or council\", \"property\": \"P194\"}}, {\"text\": \"industry\", \"id\": 156, \"metadata\": {\"description\": \"specific industry of company or organization\", \"property\": \"P452\"}}, {\"text\": \"parent club\", \"id\": 88, \"metadata\": {\"description\": \"parent club of this team\", \"property\": \"P831\"}}, {\"text\": \"licensed to broadcast to\", \"id\": 147, \"metadata\": {\"description\": \"place that a radio/TV station is licensed/required to broadcast to\", \"property\": \"P1408\"}}, {\"text\": \"diplomatic relation\", \"id\": 11, \"metadata\": {\"description\": \"diplomatic relations of the country\", \"property\": \"P530\"}}, {\"text\": \"influenced by\", \"id\": 79, \"metadata\": {\"description\": \"this person, idea, etc. is informed by that other person, idea, etc., e.g. \\u201cHeidegger was influenced by Aristotle\\u201d\", \"property\": \"P737\"}}, {\"text\": \"Vox-ATypI classification\", \"id\": 602, \"metadata\": {\"description\": \"classification for typefaces\", \"property\": \"P1878\"}}, {\"text\": \"terminus location\", \"id\": 92, \"metadata\": {\"description\": \"location of the terminus of a linear feature\", \"property\": \"P609\"}}, {\"text\": \"OSI Model layer location\", \"id\": 449, \"metadata\": {\"description\": \"location of a network protocol in one of the OSI Model layers\", \"property\": \"P5805\"}}, {\"text\": \"visitor center\", \"id\": 503, \"metadata\": {\"description\": \"official tourist office of this destination\", \"property\": \"P2872\"}}, {\"text\": \"develops from\", \"id\": 282, \"metadata\": {\"description\": \"this class of items develops from another class of items (biology)\", \"property\": \"P3094\"}}, {\"text\": \"sibling\", \"id\": 15, \"metadata\": {\"description\": \"the subject and the object have at least one common parent (brother, sister, etc. including half-siblings); use \\\"relative\\\" (P1038) for siblings-in-law (brother-in-law, sister-in-law, etc.) and step-siblings (step-brothers, step-sisters, etc.)\", \"property\": \"P3373\"}}, {\"text\": \"award received\", \"id\": 32, \"metadata\": {\"description\": \"award or recognition received by a person, organization or creative work\", \"property\": \"P166\"}}, {\"text\": \"statement is subject of\", \"id\": 48, \"metadata\": {\"description\": \"(qualifying) item that describes the relation identified in this statement\", \"property\": \"P805\"}}, {\"text\": \"medical examination\", \"id\": 266, \"metadata\": {\"description\": \"examinations that might be used to diagnose and/or prognose the medical condition\", \"property\": \"P923\"}}, {\"text\": \"laws applied\", \"id\": 456, \"metadata\": {\"description\": \"the constitutional and statutory provisions that were the primary basis for a decision or law\", \"property\": \"P3014\"}}, {\"text\": \"principal investigator\", \"id\": 473, \"metadata\": {\"description\": \"person(s) in charge of conducting a research project\", \"property\": \"P8329\"}}, {\"text\": \"indigenous to\", \"id\": 86, \"metadata\": {\"description\": \"place or ethnic group where a language, art genre, cultural tradition or expression, cooking style or food, or biological species or variety is found (or was originally found)\", \"property\": \"P2341\"}}, {\"text\": \"final event\", \"id\": 200, \"metadata\": {\"description\": \"final event of a competition\", \"property\": \"P3967\"}}, {\"text\": \"characters\", \"id\": 6, \"metadata\": {\"description\": \"characters which appear in this item (like plays, operas, operettas, books, comics, films, TV series, video games)\", \"property\": \"P674\"}}, {\"text\": \"maintained by\", \"id\": 112, \"metadata\": {\"description\": \"person or organization in charge of keeping the subject (for instance an infrastructure) in functioning order\", \"property\": \"P126\"}}, {\"text\": \"editor\", \"id\": 145, \"metadata\": {\"description\": \"person who checks and corrects a work (such as a book, newspaper, academic journal, etc.) to comply with a rules of certain genre. Also applies to person who establishes the text of an ancient written work or manuscript.\", \"property\": \"P98\"}}, {\"text\": \"flag\", \"id\": 198, \"metadata\": {\"description\": \"subject's flag\", \"property\": \"P163\"}}, {\"text\": \"motto\", \"id\": 307, \"metadata\": {\"description\": \"description of the motto of the subject\", \"property\": \"P1546\"}}, {\"text\": \"offers view on\", \"id\": 309, \"metadata\": {\"description\": \"things, places this place offers views on\", \"property\": \"P3173\"}}, {\"text\": \"parent peak\", \"id\": 353, \"metadata\": {\"description\": \"parent is the peak whose territory this peak resides in, based on the contour of the lowest col\", \"property\": \"P3137\"}}, {\"text\": \"inspired by\", \"id\": 37, \"metadata\": {\"description\": \"work, human, place or event which inspired this creative work or fictional entity\", \"property\": \"P941\"}}, {\"text\": \"said to be the same as\", \"id\": 166, \"metadata\": {\"description\": \"this item is said to be the same as that item, though this may be uncertain or disputed\", \"property\": \"P460\"}}]]]), windows=None)"
      ]
     },
     "execution_count": 36,
     "metadata": {},
     "output_type": "execute_result"
    }
   ],
   "source": [
    "department_frame.iloc[2]['RELIK']"
   ]
  },
  {
   "cell_type": "code",
   "execution_count": 28,
   "id": "4a1b7a6a",
   "metadata": {},
   "outputs": [],
   "source": [
    "department_frame.to_pickle(\"./relik2Applied.pkl\") \n"
   ]
  },
  {
   "cell_type": "code",
   "execution_count": 25,
   "id": "9667975d-7d9f-4141-9ecc-b3846d55e307",
   "metadata": {},
   "outputs": [],
   "source": [
    "department_frame2 = pd.read_pickle(\"./relik2Applied.pkl\")  "
   ]
  },
  {
   "cell_type": "code",
   "execution_count": 26,
   "id": "82c25b38-9dff-4a9f-bafd-792b0ed391d7",
   "metadata": {},
   "outputs": [
    {
     "data": {
      "text/html": [
       "<div>\n",
       "<style scoped>\n",
       "    .dataframe tbody tr th:only-of-type {\n",
       "        vertical-align: middle;\n",
       "    }\n",
       "\n",
       "    .dataframe tbody tr th {\n",
       "        vertical-align: top;\n",
       "    }\n",
       "\n",
       "    .dataframe thead th {\n",
       "        text-align: right;\n",
       "    }\n",
       "</style>\n",
       "<table border=\"1\" class=\"dataframe\">\n",
       "  <thead>\n",
       "    <tr style=\"text-align: right;\">\n",
       "      <th></th>\n",
       "      <th>original</th>\n",
       "      <th>id</th>\n",
       "      <th>txt</th>\n",
       "    </tr>\n",
       "  </thead>\n",
       "  <tbody>\n",
       "    <tr>\n",
       "      <th>0</th>\n",
       "      <td>Department of Microbial Pathogenesis and Micro...</td>\n",
       "      <td>5307788</td>\n",
       "      <td>New Haven, Connecticut</td>\n",
       "    </tr>\n",
       "    <tr>\n",
       "      <th>1</th>\n",
       "      <td>Department of Microbial Pathogenesis and Micro...</td>\n",
       "      <td>5307788</td>\n",
       "      <td>New Haven, Connecticut</td>\n",
       "    </tr>\n",
       "    <tr>\n",
       "      <th>2</th>\n",
       "      <td>MOE Key Laboratory of Bioinformatics, Center f...</td>\n",
       "      <td>5902060</td>\n",
       "      <td>Tsinghua University</td>\n",
       "    </tr>\n",
       "    <tr>\n",
       "      <th>3</th>\n",
       "      <td>Department of Genetics, Stanford University, S...</td>\n",
       "      <td>681339</td>\n",
       "      <td>Stanford University</td>\n",
       "    </tr>\n",
       "    <tr>\n",
       "      <th>4</th>\n",
       "      <td>MOE Key Laboratory of Bioinformatics, Center f...</td>\n",
       "      <td>5902060</td>\n",
       "      <td>Tsinghua University</td>\n",
       "    </tr>\n",
       "  </tbody>\n",
       "</table>\n",
       "</div>"
      ],
      "text/plain": [
       "                                            original       id  \\\n",
       "0  Department of Microbial Pathogenesis and Micro...  5307788   \n",
       "1  Department of Microbial Pathogenesis and Micro...  5307788   \n",
       "2  MOE Key Laboratory of Bioinformatics, Center f...  5902060   \n",
       "3  Department of Genetics, Stanford University, S...   681339   \n",
       "4  MOE Key Laboratory of Bioinformatics, Center f...  5902060   \n",
       "\n",
       "                      txt  \n",
       "0  New Haven, Connecticut  \n",
       "1  New Haven, Connecticut  \n",
       "2     Tsinghua University  \n",
       "3     Stanford University  \n",
       "4     Tsinghua University  "
      ]
     },
     "execution_count": 26,
     "metadata": {},
     "output_type": "execute_result"
    }
   ],
   "source": [
    "department_frame2.head()"
   ]
  },
  {
   "cell_type": "code",
   "execution_count": null,
   "id": "f0969464-0cab-4a1c-861f-240c324ff0ad",
   "metadata": {},
   "outputs": [],
   "source": [
    "department_frame['id'].unique()\n"
   ]
  },
  {
   "cell_type": "code",
   "execution_count": null,
   "id": "68f0deef-7a11-4efc-a99b-e8c1bafe7506",
   "metadata": {},
   "outputs": [],
   "source": [
    "import networkx as nx\n",
    "G = nx.Graph()  # or DiGraph, MultiGraph, MultiDiGraph, etc\n",
    "for i in range(0, len(department_frame)):\n",
    "    G.add_node(department_frame.iloc[i]['id'])\n",
    "    "
   ]
  },
  {
   "cell_type": "code",
   "execution_count": null,
   "id": "416879bf-deab-4f2b-90e2-012a2199f9b7",
   "metadata": {},
   "outputs": [],
   "source": [
    "G.number_of_nodes()"
   ]
  },
  {
   "cell_type": "code",
   "execution_count": null,
   "id": "cd87fe83-3f0d-4b6c-9d21-a30e38d3fc8c",
   "metadata": {},
   "outputs": [],
   "source": [
    "for i in range(0, len(article_dept_links)):\n",
    "    a = link_frame.iloc[i]['dept0_index']\n",
    "    b = link_frame.iloc[i]['dept1_index']\n",
    "    print(str(a), \"-->\", str(b))\n",
    "    try:\n",
    "        a_id = department_frame.iloc[a]['id']\n",
    "        b_id = department_frame.iloc[b]['id']\n",
    "        G.add_edge(a_id, b_id)\n",
    "    except:\n",
    "        pass"
   ]
  },
  {
   "cell_type": "code",
   "execution_count": null,
   "id": "0d1515e4-6f80-4d92-8a3b-4dabada04499",
   "metadata": {},
   "outputs": [],
   "source": [
    "G.number_of_edges()"
   ]
  },
  {
   "cell_type": "code",
   "execution_count": null,
   "id": "00fff536-b21f-4fc6-826a-d99186f17da7",
   "metadata": {},
   "outputs": [],
   "source": [
    "reachability_matrix = np.zeros((len(G.nodes()), len(G.nodes())))\n",
    "print(reachability_matrix.shape)"
   ]
  },
  {
   "cell_type": "code",
   "execution_count": null,
   "id": "306d444b-c8cf-4bc9-b09c-8b83c18c2e7e",
   "metadata": {},
   "outputs": [],
   "source": [
    "count_i=0\n",
    "for i in G.nodes:\n",
    "    count_j=0\n",
    "    for j in G.nodes:\n",
    "        reachability_matrix[count_i][count_j] = nx.has_path(G, i, j)\n",
    "        #reachability_matrix[count_i][count_j] = nx.has_path(G, i, j)\n",
    "        count_j+=1\n",
    "    count_i+=1\n",
    "\n",
    "                "
   ]
  },
  {
   "cell_type": "code",
   "execution_count": null,
   "id": "068ef8a6-cf5d-4d69-b5bb-c42b2b401b45",
   "metadata": {},
   "outputs": [],
   "source": [
    "import numpy as np\n",
    "import matplotlib.pyplot as plt\n",
    "plt.matshow(reachability_matrix)\n",
    "plt.colorbar()\n",
    "plt.savefig('reachability.png')\n",
    "plt.show()"
   ]
  },
  {
   "cell_type": "code",
   "execution_count": null,
   "id": "225b9edf-6e25-4664-8e3c-d624a6e67c14",
   "metadata": {},
   "outputs": [],
   "source": [
    "row_sums = np.sum(reachability_matrix, axis=1)\n",
    "sorted_indices = np.argsort(row_sums)\n",
    "bottom_10_indices = sorted_indices[:10]"
   ]
  },
  {
   "cell_type": "code",
   "execution_count": null,
   "id": "67b287a1-005a-43f0-999e-554dca55556f",
   "metadata": {
    "scrolled": true
   },
   "outputs": [],
   "source": [
    "for x in bottom_10_indices:\n",
    "    ids = G.nodes()\n",
    "    #print(x)\n",
    "    id = list(ids)[x]\n",
    "    print(department_frame[department_frame['id'] == id]['original'].values)\n",
    "    low_reaching_i = department_frame[department_frame['id'] == id].index[0]\n",
    "    low_i_journals = link_frame[link_frame['dept0_index'] == low_reaching_i].journal.tolist()+link_frame[link_frame['dept1_index'] == low_reaching_i].journal.tolist()\n",
    "    print(len(low_i_journals))\n",
    "    print(low_i_journals)"
   ]
  },
  {
   "cell_type": "code",
   "execution_count": null,
   "id": "170a7908-5001-45b7-a05c-4e02a777b62a",
   "metadata": {},
   "outputs": [],
   "source": []
  }
 ],
 "metadata": {
  "kernelspec": {
   "display_name": "Python 3 (ipykernel)",
   "language": "python",
   "name": "python3"
  },
  "language_info": {
   "codemirror_mode": {
    "name": "ipython",
    "version": 3
   },
   "file_extension": ".py",
   "mimetype": "text/x-python",
   "name": "python",
   "nbconvert_exporter": "python",
   "pygments_lexer": "ipython3",
   "version": "3.12.3"
  }
 },
 "nbformat": 4,
 "nbformat_minor": 5
}
